{
 "cells": [
  {
   "cell_type": "code",
   "execution_count": 201,
   "id": "c4d166f7",
   "metadata": {},
   "outputs": [],
   "source": [
    "import pandas as pd\n",
    "import numpy as np\n",
    "import matplotlib.pyplot as plt\n",
    "import seaborn as sns"
   ]
  },
  {
   "cell_type": "code",
   "execution_count": 202,
   "id": "c058e745",
   "metadata": {},
   "outputs": [],
   "source": [
    "data=pd.read_csv(r\"C:\\Users\\sande\\Documents\\machine learning\\internship\\Cognizant Data Science Forage\\sales.csv\")"
   ]
  },
  {
   "cell_type": "code",
   "execution_count": 203,
   "id": "31c71feb",
   "metadata": {},
   "outputs": [],
   "source": [
    "df=pd.DataFrame(data)"
   ]
  },
  {
   "cell_type": "code",
   "execution_count": 204,
   "id": "565fb056",
   "metadata": {},
   "outputs": [
    {
     "data": {
      "text/html": [
       "<div>\n",
       "<style scoped>\n",
       "    .dataframe tbody tr th:only-of-type {\n",
       "        vertical-align: middle;\n",
       "    }\n",
       "\n",
       "    .dataframe tbody tr th {\n",
       "        vertical-align: top;\n",
       "    }\n",
       "\n",
       "    .dataframe thead th {\n",
       "        text-align: right;\n",
       "    }\n",
       "</style>\n",
       "<table border=\"1\" class=\"dataframe\">\n",
       "  <thead>\n",
       "    <tr style=\"text-align: right;\">\n",
       "      <th></th>\n",
       "      <th>Unnamed: 0</th>\n",
       "      <th>transaction_id</th>\n",
       "      <th>timestamp</th>\n",
       "      <th>product_id</th>\n",
       "      <th>category</th>\n",
       "      <th>customer_type</th>\n",
       "      <th>unit_price</th>\n",
       "      <th>quantity</th>\n",
       "      <th>total</th>\n",
       "      <th>payment_type</th>\n",
       "    </tr>\n",
       "  </thead>\n",
       "  <tbody>\n",
       "    <tr>\n",
       "      <th>0</th>\n",
       "      <td>0</td>\n",
       "      <td>a1c82654-c52c-45b3-8ce8-4c2a1efe63ed</td>\n",
       "      <td>2022-03-02 09:51:38</td>\n",
       "      <td>3bc6c1ea-0198-46de-9ffd-514ae3338713</td>\n",
       "      <td>fruit</td>\n",
       "      <td>gold</td>\n",
       "      <td>3.99</td>\n",
       "      <td>2</td>\n",
       "      <td>7.98</td>\n",
       "      <td>e-wallet</td>\n",
       "    </tr>\n",
       "    <tr>\n",
       "      <th>1</th>\n",
       "      <td>1</td>\n",
       "      <td>931ad550-09e8-4da6-beaa-8c9d17be9c60</td>\n",
       "      <td>2022-03-06 10:33:59</td>\n",
       "      <td>ad81b46c-bf38-41cf-9b54-5fe7f5eba93e</td>\n",
       "      <td>fruit</td>\n",
       "      <td>standard</td>\n",
       "      <td>3.99</td>\n",
       "      <td>1</td>\n",
       "      <td>3.99</td>\n",
       "      <td>e-wallet</td>\n",
       "    </tr>\n",
       "    <tr>\n",
       "      <th>2</th>\n",
       "      <td>2</td>\n",
       "      <td>ae133534-6f61-4cd6-b6b8-d1c1d8d90aea</td>\n",
       "      <td>2022-03-04 17:20:21</td>\n",
       "      <td>7c55cbd4-f306-4c04-a030-628cbe7867c1</td>\n",
       "      <td>fruit</td>\n",
       "      <td>premium</td>\n",
       "      <td>0.19</td>\n",
       "      <td>2</td>\n",
       "      <td>0.38</td>\n",
       "      <td>e-wallet</td>\n",
       "    </tr>\n",
       "    <tr>\n",
       "      <th>3</th>\n",
       "      <td>3</td>\n",
       "      <td>157cebd9-aaf0-475d-8a11-7c8e0f5b76e4</td>\n",
       "      <td>2022-03-02 17:23:58</td>\n",
       "      <td>80da8348-1707-403f-8be7-9e6deeccc883</td>\n",
       "      <td>fruit</td>\n",
       "      <td>gold</td>\n",
       "      <td>0.19</td>\n",
       "      <td>4</td>\n",
       "      <td>0.76</td>\n",
       "      <td>e-wallet</td>\n",
       "    </tr>\n",
       "    <tr>\n",
       "      <th>4</th>\n",
       "      <td>4</td>\n",
       "      <td>a81a6cd3-5e0c-44a2-826c-aea43e46c514</td>\n",
       "      <td>2022-03-05 14:32:43</td>\n",
       "      <td>7f5e86e6-f06f-45f6-bf44-27b095c9ad1d</td>\n",
       "      <td>fruit</td>\n",
       "      <td>basic</td>\n",
       "      <td>4.49</td>\n",
       "      <td>2</td>\n",
       "      <td>8.98</td>\n",
       "      <td>debit card</td>\n",
       "    </tr>\n",
       "    <tr>\n",
       "      <th>...</th>\n",
       "      <td>...</td>\n",
       "      <td>...</td>\n",
       "      <td>...</td>\n",
       "      <td>...</td>\n",
       "      <td>...</td>\n",
       "      <td>...</td>\n",
       "      <td>...</td>\n",
       "      <td>...</td>\n",
       "      <td>...</td>\n",
       "      <td>...</td>\n",
       "    </tr>\n",
       "    <tr>\n",
       "      <th>7824</th>\n",
       "      <td>7824</td>\n",
       "      <td>6c19b9fc-f86d-4526-9dfe-d8027a4d13ee</td>\n",
       "      <td>2022-03-03 18:22:09</td>\n",
       "      <td>bc6187a9-d508-482b-9ca6-590d1cc7524f</td>\n",
       "      <td>cleaning products</td>\n",
       "      <td>basic</td>\n",
       "      <td>14.19</td>\n",
       "      <td>2</td>\n",
       "      <td>28.38</td>\n",
       "      <td>e-wallet</td>\n",
       "    </tr>\n",
       "    <tr>\n",
       "      <th>7825</th>\n",
       "      <td>7825</td>\n",
       "      <td>1c69824b-e399-4b79-a5e7-04a3a7db0681</td>\n",
       "      <td>2022-03-04 19:14:46</td>\n",
       "      <td>707e4237-191c-4cc9-85af-383a6c1cb2ab</td>\n",
       "      <td>cleaning products</td>\n",
       "      <td>standard</td>\n",
       "      <td>16.99</td>\n",
       "      <td>1</td>\n",
       "      <td>16.99</td>\n",
       "      <td>credit card</td>\n",
       "    </tr>\n",
       "    <tr>\n",
       "      <th>7826</th>\n",
       "      <td>7826</td>\n",
       "      <td>79aee7d6-1405-4345-9a15-92541e9e1e74</td>\n",
       "      <td>2022-03-03 14:00:09</td>\n",
       "      <td>a9325c1a-2715-41df-b7f4-3078fa5ecd97</td>\n",
       "      <td>cleaning products</td>\n",
       "      <td>basic</td>\n",
       "      <td>14.19</td>\n",
       "      <td>2</td>\n",
       "      <td>28.38</td>\n",
       "      <td>credit card</td>\n",
       "    </tr>\n",
       "    <tr>\n",
       "      <th>7827</th>\n",
       "      <td>7827</td>\n",
       "      <td>e5cc4f88-e5b7-4ad5-bc1b-12a828a14f55</td>\n",
       "      <td>2022-03-04 15:11:38</td>\n",
       "      <td>707e4237-191c-4cc9-85af-383a6c1cb2ab</td>\n",
       "      <td>cleaning products</td>\n",
       "      <td>basic</td>\n",
       "      <td>16.99</td>\n",
       "      <td>4</td>\n",
       "      <td>67.96</td>\n",
       "      <td>cash</td>\n",
       "    </tr>\n",
       "    <tr>\n",
       "      <th>7828</th>\n",
       "      <td>7828</td>\n",
       "      <td>afd70b4f-ee21-402d-8d8f-0d9e13c2bea6</td>\n",
       "      <td>2022-03-06 13:50:36</td>\n",
       "      <td>d6ccd088-11be-4c25-aa1f-ea87c01a04db</td>\n",
       "      <td>cleaning products</td>\n",
       "      <td>non-member</td>\n",
       "      <td>14.99</td>\n",
       "      <td>4</td>\n",
       "      <td>59.96</td>\n",
       "      <td>debit card</td>\n",
       "    </tr>\n",
       "  </tbody>\n",
       "</table>\n",
       "<p>7829 rows × 10 columns</p>\n",
       "</div>"
      ],
      "text/plain": [
       "      Unnamed: 0                        transaction_id            timestamp  \\\n",
       "0              0  a1c82654-c52c-45b3-8ce8-4c2a1efe63ed  2022-03-02 09:51:38   \n",
       "1              1  931ad550-09e8-4da6-beaa-8c9d17be9c60  2022-03-06 10:33:59   \n",
       "2              2  ae133534-6f61-4cd6-b6b8-d1c1d8d90aea  2022-03-04 17:20:21   \n",
       "3              3  157cebd9-aaf0-475d-8a11-7c8e0f5b76e4  2022-03-02 17:23:58   \n",
       "4              4  a81a6cd3-5e0c-44a2-826c-aea43e46c514  2022-03-05 14:32:43   \n",
       "...          ...                                   ...                  ...   \n",
       "7824        7824  6c19b9fc-f86d-4526-9dfe-d8027a4d13ee  2022-03-03 18:22:09   \n",
       "7825        7825  1c69824b-e399-4b79-a5e7-04a3a7db0681  2022-03-04 19:14:46   \n",
       "7826        7826  79aee7d6-1405-4345-9a15-92541e9e1e74  2022-03-03 14:00:09   \n",
       "7827        7827  e5cc4f88-e5b7-4ad5-bc1b-12a828a14f55  2022-03-04 15:11:38   \n",
       "7828        7828  afd70b4f-ee21-402d-8d8f-0d9e13c2bea6  2022-03-06 13:50:36   \n",
       "\n",
       "                                product_id           category customer_type  \\\n",
       "0     3bc6c1ea-0198-46de-9ffd-514ae3338713              fruit          gold   \n",
       "1     ad81b46c-bf38-41cf-9b54-5fe7f5eba93e              fruit      standard   \n",
       "2     7c55cbd4-f306-4c04-a030-628cbe7867c1              fruit       premium   \n",
       "3     80da8348-1707-403f-8be7-9e6deeccc883              fruit          gold   \n",
       "4     7f5e86e6-f06f-45f6-bf44-27b095c9ad1d              fruit         basic   \n",
       "...                                    ...                ...           ...   \n",
       "7824  bc6187a9-d508-482b-9ca6-590d1cc7524f  cleaning products         basic   \n",
       "7825  707e4237-191c-4cc9-85af-383a6c1cb2ab  cleaning products      standard   \n",
       "7826  a9325c1a-2715-41df-b7f4-3078fa5ecd97  cleaning products         basic   \n",
       "7827  707e4237-191c-4cc9-85af-383a6c1cb2ab  cleaning products         basic   \n",
       "7828  d6ccd088-11be-4c25-aa1f-ea87c01a04db  cleaning products    non-member   \n",
       "\n",
       "      unit_price  quantity  total payment_type  \n",
       "0           3.99         2   7.98     e-wallet  \n",
       "1           3.99         1   3.99     e-wallet  \n",
       "2           0.19         2   0.38     e-wallet  \n",
       "3           0.19         4   0.76     e-wallet  \n",
       "4           4.49         2   8.98   debit card  \n",
       "...          ...       ...    ...          ...  \n",
       "7824       14.19         2  28.38     e-wallet  \n",
       "7825       16.99         1  16.99  credit card  \n",
       "7826       14.19         2  28.38  credit card  \n",
       "7827       16.99         4  67.96         cash  \n",
       "7828       14.99         4  59.96   debit card  \n",
       "\n",
       "[7829 rows x 10 columns]"
      ]
     },
     "execution_count": 204,
     "metadata": {},
     "output_type": "execute_result"
    }
   ],
   "source": [
    "df"
   ]
  },
  {
   "cell_type": "code",
   "execution_count": 205,
   "id": "153daa9b",
   "metadata": {},
   "outputs": [
    {
     "data": {
      "text/plain": [
       "array(['gold', 'standard', 'premium', 'basic', 'non-member'], dtype=object)"
      ]
     },
     "execution_count": 205,
     "metadata": {},
     "output_type": "execute_result"
    }
   ],
   "source": [
    "df['customer_type'].unique()"
   ]
  },
  {
   "cell_type": "code",
   "execution_count": 206,
   "id": "59de9280",
   "metadata": {},
   "outputs": [
    {
     "data": {
      "text/html": [
       "<div>\n",
       "<style scoped>\n",
       "    .dataframe tbody tr th:only-of-type {\n",
       "        vertical-align: middle;\n",
       "    }\n",
       "\n",
       "    .dataframe tbody tr th {\n",
       "        vertical-align: top;\n",
       "    }\n",
       "\n",
       "    .dataframe thead th {\n",
       "        text-align: right;\n",
       "    }\n",
       "</style>\n",
       "<table border=\"1\" class=\"dataframe\">\n",
       "  <thead>\n",
       "    <tr style=\"text-align: right;\">\n",
       "      <th></th>\n",
       "      <th>Unnamed: 0</th>\n",
       "      <th>unit_price</th>\n",
       "      <th>quantity</th>\n",
       "      <th>total</th>\n",
       "    </tr>\n",
       "  </thead>\n",
       "  <tbody>\n",
       "    <tr>\n",
       "      <th>count</th>\n",
       "      <td>7829.000000</td>\n",
       "      <td>7829.000000</td>\n",
       "      <td>7829.000000</td>\n",
       "      <td>7829.000000</td>\n",
       "    </tr>\n",
       "    <tr>\n",
       "      <th>mean</th>\n",
       "      <td>3914.000000</td>\n",
       "      <td>7.819480</td>\n",
       "      <td>2.501597</td>\n",
       "      <td>19.709905</td>\n",
       "    </tr>\n",
       "    <tr>\n",
       "      <th>std</th>\n",
       "      <td>2260.181962</td>\n",
       "      <td>5.388088</td>\n",
       "      <td>1.122722</td>\n",
       "      <td>17.446680</td>\n",
       "    </tr>\n",
       "    <tr>\n",
       "      <th>min</th>\n",
       "      <td>0.000000</td>\n",
       "      <td>0.190000</td>\n",
       "      <td>1.000000</td>\n",
       "      <td>0.190000</td>\n",
       "    </tr>\n",
       "    <tr>\n",
       "      <th>25%</th>\n",
       "      <td>1957.000000</td>\n",
       "      <td>3.990000</td>\n",
       "      <td>1.000000</td>\n",
       "      <td>6.570000</td>\n",
       "    </tr>\n",
       "    <tr>\n",
       "      <th>50%</th>\n",
       "      <td>3914.000000</td>\n",
       "      <td>7.190000</td>\n",
       "      <td>3.000000</td>\n",
       "      <td>14.970000</td>\n",
       "    </tr>\n",
       "    <tr>\n",
       "      <th>75%</th>\n",
       "      <td>5871.000000</td>\n",
       "      <td>11.190000</td>\n",
       "      <td>4.000000</td>\n",
       "      <td>28.470000</td>\n",
       "    </tr>\n",
       "    <tr>\n",
       "      <th>max</th>\n",
       "      <td>7828.000000</td>\n",
       "      <td>23.990000</td>\n",
       "      <td>4.000000</td>\n",
       "      <td>95.960000</td>\n",
       "    </tr>\n",
       "  </tbody>\n",
       "</table>\n",
       "</div>"
      ],
      "text/plain": [
       "        Unnamed: 0   unit_price     quantity        total\n",
       "count  7829.000000  7829.000000  7829.000000  7829.000000\n",
       "mean   3914.000000     7.819480     2.501597    19.709905\n",
       "std    2260.181962     5.388088     1.122722    17.446680\n",
       "min       0.000000     0.190000     1.000000     0.190000\n",
       "25%    1957.000000     3.990000     1.000000     6.570000\n",
       "50%    3914.000000     7.190000     3.000000    14.970000\n",
       "75%    5871.000000    11.190000     4.000000    28.470000\n",
       "max    7828.000000    23.990000     4.000000    95.960000"
      ]
     },
     "execution_count": 206,
     "metadata": {},
     "output_type": "execute_result"
    }
   ],
   "source": [
    "df.describe()"
   ]
  },
  {
   "cell_type": "code",
   "execution_count": 207,
   "id": "7903d11c",
   "metadata": {},
   "outputs": [
    {
     "name": "stdout",
     "output_type": "stream",
     "text": [
      "<class 'pandas.core.frame.DataFrame'>\n",
      "RangeIndex: 7829 entries, 0 to 7828\n",
      "Data columns (total 10 columns):\n",
      " #   Column          Non-Null Count  Dtype  \n",
      "---  ------          --------------  -----  \n",
      " 0   Unnamed: 0      7829 non-null   int64  \n",
      " 1   transaction_id  7829 non-null   object \n",
      " 2   timestamp       7829 non-null   object \n",
      " 3   product_id      7829 non-null   object \n",
      " 4   category        7829 non-null   object \n",
      " 5   customer_type   7829 non-null   object \n",
      " 6   unit_price      7829 non-null   float64\n",
      " 7   quantity        7829 non-null   int64  \n",
      " 8   total           7829 non-null   float64\n",
      " 9   payment_type    7829 non-null   object \n",
      "dtypes: float64(2), int64(2), object(6)\n",
      "memory usage: 611.8+ KB\n"
     ]
    }
   ],
   "source": [
    "df.info()"
   ]
  },
  {
   "cell_type": "code",
   "execution_count": 208,
   "id": "dad6b8ce",
   "metadata": {},
   "outputs": [],
   "source": [
    "df['timestamp']=pd.to_datetime(df['timestamp'])"
   ]
  },
  {
   "cell_type": "code",
   "execution_count": 209,
   "id": "a150dc61",
   "metadata": {},
   "outputs": [
    {
     "data": {
      "text/plain": [
       "<AxesSubplot:xlabel='customer_type', ylabel='count'>"
      ]
     },
     "execution_count": 209,
     "metadata": {},
     "output_type": "execute_result"
    },
    {
     "data": {
      "image/png": "[encoded data removed]",
      "text/plain": [
       "<Figure size 1500x300 with 1 Axes>"
      ]
     },
     "metadata": {
      "needs_background": "light"
     },
     "output_type": "display_data"
    }
   ],
   "source": [
    "plt.figure(figsize=(10,2),dpi=150)\n",
    "sns.countplot(x='customer_type',data=df)"
   ]
  },
  {
   "cell_type": "code",
   "execution_count": 210,
   "id": "afb39e46",
   "metadata": {},
   "outputs": [
    {
     "data": {
      "text/plain": [
       "non-member    1601\n",
       "standard      1595\n",
       "premium       1590\n",
       "basic         1526\n",
       "gold          1517\n",
       "Name: customer_type, dtype: int64"
      ]
     },
     "execution_count": 210,
     "metadata": {},
     "output_type": "execute_result"
    }
   ],
   "source": [
    "df['customer_type'].value_counts()"
   ]
  },
  {
   "cell_type": "code",
   "execution_count": 211,
   "id": "ef3b36a8",
   "metadata": {},
   "outputs": [
    {
     "data": {
      "text/plain": [
       "array(['fruit', 'vegetables', 'refrigerated items', 'frozen',\n",
       "       'spices and herbs', 'canned foods', 'packaged foods',\n",
       "       'condiments and sauces', 'beverages', 'dairy', 'cheese', 'meat',\n",
       "       'seafood', 'baked goods', 'baking', 'snacks', 'baby products',\n",
       "       'pets', 'personal care', 'medicine', 'kitchen',\n",
       "       'cleaning products'], dtype=object)"
      ]
     },
     "execution_count": 211,
     "metadata": {},
     "output_type": "execute_result"
    }
   ],
   "source": [
    "df['category'].unique()"
   ]
  },
  {
   "cell_type": "code",
   "execution_count": 212,
   "id": "7085411d",
   "metadata": {},
   "outputs": [
    {
     "data": {
      "image/png": "[encoded data removed]",
      "text/plain": [
       "<Figure size 1152x288 with 1 Axes>"
      ]
     },
     "metadata": {
      "needs_background": "light"
     },
     "output_type": "display_data"
    }
   ],
   "source": [
    "plt.figure(figsize=(16,4))\n",
    "sns.countplot(x='category',data=df)\n",
    "plt.xticks(rotation=90)\n",
    "plt.show()"
   ]
  },
  {
   "cell_type": "code",
   "execution_count": 213,
   "id": "45a04f4d",
   "metadata": {},
   "outputs": [
    {
     "data": {
      "text/plain": [
       "array(['e-wallet', 'debit card', 'cash', 'credit card'], dtype=object)"
      ]
     },
     "execution_count": 213,
     "metadata": {},
     "output_type": "execute_result"
    }
   ],
   "source": [
    "df['payment_type'].unique()"
   ]
  },
  {
   "cell_type": "code",
   "execution_count": 214,
   "id": "5d53a487",
   "metadata": {},
   "outputs": [
    {
     "data": {
      "image/png": "[encoded data removed]",
      "text/plain": [
       "<Figure size 1008x288 with 1 Axes>"
      ]
     },
     "metadata": {
      "needs_background": "light"
     },
     "output_type": "display_data"
    }
   ],
   "source": [
    "plt.figure(figsize=(14,4))\n",
    "sns.countplot(x='payment_type',data=df,hue='customer_type')\n",
    "plt.xticks(rotation=90)\n",
    "plt.legend(loc='lower right')\n",
    "plt.show()"
   ]
  },
  {
   "cell_type": "code",
   "execution_count": 215,
   "id": "706042c0",
   "metadata": {},
   "outputs": [
    {
     "data": {
      "text/plain": [
       "<AxesSubplot:xlabel='unit_price'>"
      ]
     },
     "execution_count": 215,
     "metadata": {},
     "output_type": "execute_result"
    },
    {
     "data": {
      "image/png": "[encoded data removed]",
      "text/plain": [
       "<Figure size 432x288 with 1 Axes>"
      ]
     },
     "metadata": {
      "needs_background": "light"
     },
     "output_type": "display_data"
    }
   ],
   "source": [
    "sns.barplot(x='unit_price',data=df[df['category']=='fruit'],hue='customer_type')"
   ]
  },
  {
   "cell_type": "code",
   "execution_count": 216,
   "id": "2e952648",
   "metadata": {},
   "outputs": [
    {
     "data": {
      "text/plain": [
       "customer_type\n",
       "basic         2.423333\n",
       "gold          2.372741\n",
       "non-member    2.508717\n",
       "premium       2.555534\n",
       "standard      2.634595\n",
       "Name: unit_price, dtype: float64"
      ]
     },
     "execution_count": 216,
     "metadata": {},
     "output_type": "execute_result"
    }
   ],
   "source": [
    "df[df['category']=='fruit'].groupby(by='customer_type')['unit_price'].mean()"
   ]
  },
  {
   "cell_type": "code",
   "execution_count": 217,
   "id": "ae027ee6",
   "metadata": {},
   "outputs": [
    {
     "data": {
      "text/plain": [
       "customer_type\n",
       "premium       2.215824\n",
       "basic         2.252500\n",
       "standard      2.360588\n",
       "non-member    2.380395\n",
       "gold          2.629080\n",
       "Name: unit_price, dtype: float64"
      ]
     },
     "execution_count": 217,
     "metadata": {},
     "output_type": "execute_result"
    }
   ],
   "source": [
    "df[df['category']=='vegetables'].groupby(by='customer_type')['unit_price'].mean().sort_values()"
   ]
  },
  {
   "cell_type": "code",
   "execution_count": 218,
   "id": "97573250",
   "metadata": {},
   "outputs": [
    {
     "data": {
      "text/plain": [
       "customer_type\n",
       "basic         160\n",
       "gold          174\n",
       "non-member    177\n",
       "premium       182\n",
       "standard      153\n",
       "Name: unit_price, dtype: int64"
      ]
     },
     "execution_count": 218,
     "metadata": {},
     "output_type": "execute_result"
    }
   ],
   "source": [
    "df[df['category']=='vegetables'].groupby(by='customer_type')['unit_price'].count()"
   ]
  },
  {
   "cell_type": "code",
   "execution_count": 219,
   "id": "8fb59b76",
   "metadata": {},
   "outputs": [
    {
     "data": {
      "text/plain": [
       "payment_type\n",
       "cash           222\n",
       "credit card    196\n",
       "debit card     231\n",
       "e-wallet       197\n",
       "Name: unit_price, dtype: int64"
      ]
     },
     "execution_count": 219,
     "metadata": {},
     "output_type": "execute_result"
    }
   ],
   "source": [
    "df[df['category']=='vegetables'].groupby(by='payment_type')['unit_price'].count()"
   ]
  },
  {
   "cell_type": "code",
   "execution_count": 220,
   "id": "d54e125c",
   "metadata": {},
   "outputs": [
    {
     "data": {
      "text/plain": [
       "customer_type\n",
       "basic         186\n",
       "gold          197\n",
       "non-member    187\n",
       "premium       206\n",
       "standard      222\n",
       "Name: unit_price, dtype: int64"
      ]
     },
     "execution_count": 220,
     "metadata": {},
     "output_type": "execute_result"
    }
   ],
   "source": [
    "df[df['category']=='fruit'].groupby(by='customer_type')['unit_price'].count()"
   ]
  },
  {
   "cell_type": "code",
   "execution_count": 221,
   "id": "56a671c8",
   "metadata": {},
   "outputs": [
    {
     "data": {
      "text/plain": [
       "payment_type\n",
       "cash           210\n",
       "credit card    264\n",
       "debit card     252\n",
       "e-wallet       272\n",
       "Name: unit_price, dtype: int64"
      ]
     },
     "execution_count": 221,
     "metadata": {},
     "output_type": "execute_result"
    }
   ],
   "source": [
    "df[df['category']=='fruit'].groupby(by='payment_type')['unit_price'].count()"
   ]
  },
  {
   "cell_type": "code",
   "execution_count": 222,
   "id": "b2cc1e9b",
   "metadata": {},
   "outputs": [],
   "source": [
    "sensor_data=pd.read_csv(r\"C:\\Users\\sande\\Documents\\machine learning\\internship\\Cognizant Data Science Forage\\sensor_stock_levels.csv\")"
   ]
  },
  {
   "cell_type": "code",
   "execution_count": 223,
   "id": "4801f83d",
   "metadata": {},
   "outputs": [],
   "source": [
    "sensor_df=pd.DataFrame(sensor_data)"
   ]
  },
  {
   "cell_type": "code",
   "execution_count": 224,
   "id": "667b5673",
   "metadata": {},
   "outputs": [
    {
     "data": {
      "text/html": [
       "<div>\n",
       "<style scoped>\n",
       "    .dataframe tbody tr th:only-of-type {\n",
       "        vertical-align: middle;\n",
       "    }\n",
       "\n",
       "    .dataframe tbody tr th {\n",
       "        vertical-align: top;\n",
       "    }\n",
       "\n",
       "    .dataframe thead th {\n",
       "        text-align: right;\n",
       "    }\n",
       "</style>\n",
       "<table border=\"1\" class=\"dataframe\">\n",
       "  <thead>\n",
       "    <tr style=\"text-align: right;\">\n",
       "      <th></th>\n",
       "      <th>Unnamed: 0</th>\n",
       "      <th>id</th>\n",
       "      <th>timestamp</th>\n",
       "      <th>product_id</th>\n",
       "      <th>estimated_stock_pct</th>\n",
       "    </tr>\n",
       "  </thead>\n",
       "  <tbody>\n",
       "    <tr>\n",
       "      <th>0</th>\n",
       "      <td>0</td>\n",
       "      <td>4220e505-c247-478d-9831-6b9f87a4488a</td>\n",
       "      <td>2022-03-07 12:13:02</td>\n",
       "      <td>f658605e-75f3-4fed-a655-c0903f344427</td>\n",
       "      <td>0.75</td>\n",
       "    </tr>\n",
       "    <tr>\n",
       "      <th>1</th>\n",
       "      <td>1</td>\n",
       "      <td>f2612b26-fc82-49ea-8940-0751fdd4d9ef</td>\n",
       "      <td>2022-03-07 16:39:46</td>\n",
       "      <td>de06083a-f5c0-451d-b2f4-9ab88b52609d</td>\n",
       "      <td>0.48</td>\n",
       "    </tr>\n",
       "    <tr>\n",
       "      <th>2</th>\n",
       "      <td>2</td>\n",
       "      <td>989a287f-67e6-4478-aa49-c3a35dac0e2e</td>\n",
       "      <td>2022-03-01 18:17:43</td>\n",
       "      <td>ce8f3a04-d1a4-43b1-a7c2-fa1b8e7674c8</td>\n",
       "      <td>0.58</td>\n",
       "    </tr>\n",
       "    <tr>\n",
       "      <th>3</th>\n",
       "      <td>3</td>\n",
       "      <td>af8e5683-d247-46ac-9909-1a77bdebefb2</td>\n",
       "      <td>2022-03-02 14:29:09</td>\n",
       "      <td>c21e3ba9-92a3-4745-92c2-6faef73223f7</td>\n",
       "      <td>0.79</td>\n",
       "    </tr>\n",
       "    <tr>\n",
       "      <th>4</th>\n",
       "      <td>4</td>\n",
       "      <td>08a32247-3f44-4002-85fb-c198434dd4bb</td>\n",
       "      <td>2022-03-02 13:46:18</td>\n",
       "      <td>7f478817-aa5b-44e9-9059-8045228c9eb0</td>\n",
       "      <td>0.22</td>\n",
       "    </tr>\n",
       "  </tbody>\n",
       "</table>\n",
       "</div>"
      ],
      "text/plain": [
       "   Unnamed: 0                                    id            timestamp  \\\n",
       "0           0  4220e505-c247-478d-9831-6b9f87a4488a  2022-03-07 12:13:02   \n",
       "1           1  f2612b26-fc82-49ea-8940-0751fdd4d9ef  2022-03-07 16:39:46   \n",
       "2           2  989a287f-67e6-4478-aa49-c3a35dac0e2e  2022-03-01 18:17:43   \n",
       "3           3  af8e5683-d247-46ac-9909-1a77bdebefb2  2022-03-02 14:29:09   \n",
       "4           4  08a32247-3f44-4002-85fb-c198434dd4bb  2022-03-02 13:46:18   \n",
       "\n",
       "                             product_id  estimated_stock_pct  \n",
       "0  f658605e-75f3-4fed-a655-c0903f344427                 0.75  \n",
       "1  de06083a-f5c0-451d-b2f4-9ab88b52609d                 0.48  \n",
       "2  ce8f3a04-d1a4-43b1-a7c2-fa1b8e7674c8                 0.58  \n",
       "3  c21e3ba9-92a3-4745-92c2-6faef73223f7                 0.79  \n",
       "4  7f478817-aa5b-44e9-9059-8045228c9eb0                 0.22  "
      ]
     },
     "execution_count": 224,
     "metadata": {},
     "output_type": "execute_result"
    }
   ],
   "source": [
    "sensor_df.head()"
   ]
  },
  {
   "cell_type": "code",
   "execution_count": 225,
   "id": "204d4f4b",
   "metadata": {},
   "outputs": [
    {
     "name": "stdout",
     "output_type": "stream",
     "text": [
      "<class 'pandas.core.frame.DataFrame'>\n",
      "RangeIndex: 15000 entries, 0 to 14999\n",
      "Data columns (total 5 columns):\n",
      " #   Column               Non-Null Count  Dtype  \n",
      "---  ------               --------------  -----  \n",
      " 0   Unnamed: 0           15000 non-null  int64  \n",
      " 1   id                   15000 non-null  object \n",
      " 2   timestamp            15000 non-null  object \n",
      " 3   product_id           15000 non-null  object \n",
      " 4   estimated_stock_pct  15000 non-null  float64\n",
      "dtypes: float64(1), int64(1), object(3)\n",
      "memory usage: 586.1+ KB\n"
     ]
    }
   ],
   "source": [
    "sensor_df.info()"
   ]
  },
  {
   "cell_type": "code",
   "execution_count": 226,
   "id": "1933074c",
   "metadata": {},
   "outputs": [],
   "source": [
    "sensor_df['timestamp']=pd.to_datetime(sensor_df['timestamp'])"
   ]
  },
  {
   "cell_type": "code",
   "execution_count": 227,
   "id": "45cfdbb0",
   "metadata": {},
   "outputs": [],
   "source": [
    "storage_temp=pd.read_csv(r\"C:\\Users\\sande\\Documents\\machine learning\\internship\\Cognizant Data Science Forage\\sensor_storage_temperature.csv\")"
   ]
  },
  {
   "cell_type": "code",
   "execution_count": 228,
   "id": "61c5da6f",
   "metadata": {},
   "outputs": [],
   "source": [
    "storagetemp_df=pd.DataFrame(storage_temp)"
   ]
  },
  {
   "cell_type": "code",
   "execution_count": 229,
   "id": "55bccc9b",
   "metadata": {},
   "outputs": [
    {
     "data": {
      "text/html": [
       "<div>\n",
       "<style scoped>\n",
       "    .dataframe tbody tr th:only-of-type {\n",
       "        vertical-align: middle;\n",
       "    }\n",
       "\n",
       "    .dataframe tbody tr th {\n",
       "        vertical-align: top;\n",
       "    }\n",
       "\n",
       "    .dataframe thead th {\n",
       "        text-align: right;\n",
       "    }\n",
       "</style>\n",
       "<table border=\"1\" class=\"dataframe\">\n",
       "  <thead>\n",
       "    <tr style=\"text-align: right;\">\n",
       "      <th></th>\n",
       "      <th>Unnamed: 0</th>\n",
       "      <th>id</th>\n",
       "      <th>timestamp</th>\n",
       "      <th>temperature</th>\n",
       "    </tr>\n",
       "  </thead>\n",
       "  <tbody>\n",
       "    <tr>\n",
       "      <th>0</th>\n",
       "      <td>0</td>\n",
       "      <td>d1ca1ef8-0eac-42fc-af80-97106efc7b13</td>\n",
       "      <td>2022-03-07 15:55:20</td>\n",
       "      <td>2.96</td>\n",
       "    </tr>\n",
       "    <tr>\n",
       "      <th>1</th>\n",
       "      <td>1</td>\n",
       "      <td>4b8a66c4-0f3a-4f16-826f-8cf9397e9d18</td>\n",
       "      <td>2022-03-01 09:18:22</td>\n",
       "      <td>1.88</td>\n",
       "    </tr>\n",
       "    <tr>\n",
       "      <th>2</th>\n",
       "      <td>2</td>\n",
       "      <td>3d47a0c7-1e72-4512-812f-b6b5d8428cf3</td>\n",
       "      <td>2022-03-04 15:12:26</td>\n",
       "      <td>1.78</td>\n",
       "    </tr>\n",
       "    <tr>\n",
       "      <th>3</th>\n",
       "      <td>3</td>\n",
       "      <td>9500357b-ce15-424a-837a-7677b386f471</td>\n",
       "      <td>2022-03-02 12:30:42</td>\n",
       "      <td>2.18</td>\n",
       "    </tr>\n",
       "  </tbody>\n",
       "</table>\n",
       "</div>"
      ],
      "text/plain": [
       "   Unnamed: 0                                    id            timestamp  \\\n",
       "0           0  d1ca1ef8-0eac-42fc-af80-97106efc7b13  2022-03-07 15:55:20   \n",
       "1           1  4b8a66c4-0f3a-4f16-826f-8cf9397e9d18  2022-03-01 09:18:22   \n",
       "2           2  3d47a0c7-1e72-4512-812f-b6b5d8428cf3  2022-03-04 15:12:26   \n",
       "3           3  9500357b-ce15-424a-837a-7677b386f471  2022-03-02 12:30:42   \n",
       "\n",
       "   temperature  \n",
       "0         2.96  \n",
       "1         1.88  \n",
       "2         1.78  \n",
       "3         2.18  "
      ]
     },
     "execution_count": 229,
     "metadata": {},
     "output_type": "execute_result"
    }
   ],
   "source": [
    "storagetemp_df.head(4)"
   ]
  },
  {
   "cell_type": "code",
   "execution_count": 230,
   "id": "922baa57",
   "metadata": {},
   "outputs": [],
   "source": [
    "storagetemp_df['timestamp']=pd.to_datetime(storagetemp_df['timestamp'])"
   ]
  },
  {
   "cell_type": "code",
   "execution_count": 231,
   "id": "67c29558",
   "metadata": {},
   "outputs": [
    {
     "data": {
      "text/plain": [
       "5    1074\n",
       "3    1078\n",
       "7    1104\n",
       "4    1108\n",
       "6    1132\n",
       "1    1165\n",
       "2    1168\n",
       "Name: timestamp, dtype: int64"
      ]
     },
     "execution_count": 231,
     "metadata": {},
     "output_type": "execute_result"
    }
   ],
   "source": [
    "df['timestamp'].dt.day.value_counts().sort_values()"
   ]
  },
  {
   "cell_type": "code",
   "execution_count": 232,
   "id": "767ceb4d",
   "metadata": {},
   "outputs": [
    {
     "data": {
      "text/plain": [
       "6    3343\n",
       "7    3386\n",
       "2    3417\n",
       "5    3419\n",
       "1    3431\n",
       "4    3440\n",
       "3    3454\n",
       "Name: timestamp, dtype: int64"
      ]
     },
     "execution_count": 232,
     "metadata": {},
     "output_type": "execute_result"
    }
   ],
   "source": [
    "storagetemp_df['timestamp'].dt.day.value_counts().sort_values()"
   ]
  },
  {
   "cell_type": "code",
   "execution_count": 233,
   "id": "11d24fe9",
   "metadata": {},
   "outputs": [],
   "source": [
    "df['day']=df['timestamp'].dt.day"
   ]
  },
  {
   "cell_type": "code",
   "execution_count": 234,
   "id": "a101cd5c",
   "metadata": {},
   "outputs": [],
   "source": [
    "df['month']=df['timestamp'].dt.month"
   ]
  },
  {
   "cell_type": "code",
   "execution_count": 235,
   "id": "e3f14d2c",
   "metadata": {},
   "outputs": [],
   "source": [
    "df['hour']=df['timestamp'].dt.hour"
   ]
  },
  {
   "cell_type": "code",
   "execution_count": 236,
   "id": "7c0e520b",
   "metadata": {},
   "outputs": [],
   "source": [
    "a=pd.get_dummies(df['customer_type'],prefix='customer_type_')"
   ]
  },
  {
   "cell_type": "code",
   "execution_count": 307,
   "id": "46216711",
   "metadata": {},
   "outputs": [
    {
     "data": {
      "text/plain": [
       "0      2022-03-02 09:00:00\n",
       "1      2022-03-06 10:00:00\n",
       "2      2022-03-04 17:00:00\n",
       "3      2022-03-02 17:00:00\n",
       "4      2022-03-05 14:00:00\n",
       "               ...        \n",
       "7824   2022-03-03 18:00:00\n",
       "7825   2022-03-04 19:00:00\n",
       "7826   2022-03-03 14:00:00\n",
       "7827   2022-03-04 15:00:00\n",
       "7828   2022-03-06 13:00:00\n",
       "Name: timestamp, Length: 7829, dtype: datetime64[ns]"
      ]
     },
     "execution_count": 307,
     "metadata": {},
     "output_type": "execute_result"
    }
   ],
   "source": [
    "df['timestamp']."
   ]
  },
  {
   "cell_type": "code",
   "execution_count": 237,
   "id": "d97b454c",
   "metadata": {},
   "outputs": [],
   "source": [
    "df=pd.concat([df,a],axis=1)"
   ]
  },
  {
   "cell_type": "code",
   "execution_count": null,
   "id": "a5808a1d",
   "metadata": {},
   "outputs": [],
   "source": []
  },
  {
   "cell_type": "code",
   "execution_count": 238,
   "id": "33faf1ef",
   "metadata": {},
   "outputs": [],
   "source": [
    "from datetime import datetime\n",
    "\n",
    "def convert_timestamp_to_hourly(data: pd.DataFrame = None, column: str = None):\n",
    "  dummy = data.copy()\n",
    "  new_ts = dummy[column].tolist()\n",
    "  new_ts = [i.strftime('%Y-%m-%d %H:00:00') for i in new_ts]\n",
    "  new_ts = [datetime.strptime(i, '%Y-%m-%d %H:00:00') for i in new_ts]\n",
    "  dummy[column] = new_ts\n",
    "  return dummy"
   ]
  },
  {
   "cell_type": "code",
   "execution_count": 239,
   "id": "f4507c1b",
   "metadata": {},
   "outputs": [
    {
     "data": {
      "text/html": [
       "<div>\n",
       "<style scoped>\n",
       "    .dataframe tbody tr th:only-of-type {\n",
       "        vertical-align: middle;\n",
       "    }\n",
       "\n",
       "    .dataframe tbody tr th {\n",
       "        vertical-align: top;\n",
       "    }\n",
       "\n",
       "    .dataframe thead th {\n",
       "        text-align: right;\n",
       "    }\n",
       "</style>\n",
       "<table border=\"1\" class=\"dataframe\">\n",
       "  <thead>\n",
       "    <tr style=\"text-align: right;\">\n",
       "      <th></th>\n",
       "      <th>Unnamed: 0</th>\n",
       "      <th>transaction_id</th>\n",
       "      <th>timestamp</th>\n",
       "      <th>product_id</th>\n",
       "      <th>category</th>\n",
       "      <th>customer_type</th>\n",
       "      <th>unit_price</th>\n",
       "      <th>quantity</th>\n",
       "      <th>total</th>\n",
       "      <th>payment_type</th>\n",
       "      <th>day</th>\n",
       "      <th>month</th>\n",
       "      <th>hour</th>\n",
       "      <th>customer_type__basic</th>\n",
       "      <th>customer_type__gold</th>\n",
       "      <th>customer_type__non-member</th>\n",
       "      <th>customer_type__premium</th>\n",
       "      <th>customer_type__standard</th>\n",
       "    </tr>\n",
       "  </thead>\n",
       "  <tbody>\n",
       "    <tr>\n",
       "      <th>0</th>\n",
       "      <td>0</td>\n",
       "      <td>a1c82654-c52c-45b3-8ce8-4c2a1efe63ed</td>\n",
       "      <td>2022-03-02 09:00:00</td>\n",
       "      <td>3bc6c1ea-0198-46de-9ffd-514ae3338713</td>\n",
       "      <td>fruit</td>\n",
       "      <td>gold</td>\n",
       "      <td>3.99</td>\n",
       "      <td>2</td>\n",
       "      <td>7.98</td>\n",
       "      <td>e-wallet</td>\n",
       "      <td>2</td>\n",
       "      <td>3</td>\n",
       "      <td>9</td>\n",
       "      <td>0</td>\n",
       "      <td>1</td>\n",
       "      <td>0</td>\n",
       "      <td>0</td>\n",
       "      <td>0</td>\n",
       "    </tr>\n",
       "    <tr>\n",
       "      <th>1</th>\n",
       "      <td>1</td>\n",
       "      <td>931ad550-09e8-4da6-beaa-8c9d17be9c60</td>\n",
       "      <td>2022-03-06 10:00:00</td>\n",
       "      <td>ad81b46c-bf38-41cf-9b54-5fe7f5eba93e</td>\n",
       "      <td>fruit</td>\n",
       "      <td>standard</td>\n",
       "      <td>3.99</td>\n",
       "      <td>1</td>\n",
       "      <td>3.99</td>\n",
       "      <td>e-wallet</td>\n",
       "      <td>6</td>\n",
       "      <td>3</td>\n",
       "      <td>10</td>\n",
       "      <td>0</td>\n",
       "      <td>0</td>\n",
       "      <td>0</td>\n",
       "      <td>0</td>\n",
       "      <td>1</td>\n",
       "    </tr>\n",
       "    <tr>\n",
       "      <th>2</th>\n",
       "      <td>2</td>\n",
       "      <td>ae133534-6f61-4cd6-b6b8-d1c1d8d90aea</td>\n",
       "      <td>2022-03-04 17:00:00</td>\n",
       "      <td>7c55cbd4-f306-4c04-a030-628cbe7867c1</td>\n",
       "      <td>fruit</td>\n",
       "      <td>premium</td>\n",
       "      <td>0.19</td>\n",
       "      <td>2</td>\n",
       "      <td>0.38</td>\n",
       "      <td>e-wallet</td>\n",
       "      <td>4</td>\n",
       "      <td>3</td>\n",
       "      <td>17</td>\n",
       "      <td>0</td>\n",
       "      <td>0</td>\n",
       "      <td>0</td>\n",
       "      <td>1</td>\n",
       "      <td>0</td>\n",
       "    </tr>\n",
       "  </tbody>\n",
       "</table>\n",
       "</div>"
      ],
      "text/plain": [
       "   Unnamed: 0                        transaction_id           timestamp  \\\n",
       "0           0  a1c82654-c52c-45b3-8ce8-4c2a1efe63ed 2022-03-02 09:00:00   \n",
       "1           1  931ad550-09e8-4da6-beaa-8c9d17be9c60 2022-03-06 10:00:00   \n",
       "2           2  ae133534-6f61-4cd6-b6b8-d1c1d8d90aea 2022-03-04 17:00:00   \n",
       "\n",
       "                             product_id category customer_type  unit_price  \\\n",
       "0  3bc6c1ea-0198-46de-9ffd-514ae3338713    fruit          gold        3.99   \n",
       "1  ad81b46c-bf38-41cf-9b54-5fe7f5eba93e    fruit      standard        3.99   \n",
       "2  7c55cbd4-f306-4c04-a030-628cbe7867c1    fruit       premium        0.19   \n",
       "\n",
       "   quantity  total payment_type  day  month  hour  customer_type__basic  \\\n",
       "0         2   7.98     e-wallet    2      3     9                     0   \n",
       "1         1   3.99     e-wallet    6      3    10                     0   \n",
       "2         2   0.38     e-wallet    4      3    17                     0   \n",
       "\n",
       "   customer_type__gold  customer_type__non-member  customer_type__premium  \\\n",
       "0                    1                          0                       0   \n",
       "1                    0                          0                       0   \n",
       "2                    0                          0                       1   \n",
       "\n",
       "   customer_type__standard  \n",
       "0                        0  \n",
       "1                        1  \n",
       "2                        0  "
      ]
     },
     "execution_count": 239,
     "metadata": {},
     "output_type": "execute_result"
    }
   ],
   "source": [
    "df = convert_timestamp_to_hourly(df, 'timestamp')\n",
    "df.head(3)"
   ]
  },
  {
   "cell_type": "code",
   "execution_count": 240,
   "id": "598ef597",
   "metadata": {},
   "outputs": [
    {
     "data": {
      "text/html": [
       "<div>\n",
       "<style scoped>\n",
       "    .dataframe tbody tr th:only-of-type {\n",
       "        vertical-align: middle;\n",
       "    }\n",
       "\n",
       "    .dataframe tbody tr th {\n",
       "        vertical-align: top;\n",
       "    }\n",
       "\n",
       "    .dataframe thead th {\n",
       "        text-align: right;\n",
       "    }\n",
       "</style>\n",
       "<table border=\"1\" class=\"dataframe\">\n",
       "  <thead>\n",
       "    <tr style=\"text-align: right;\">\n",
       "      <th></th>\n",
       "      <th>Unnamed: 0</th>\n",
       "      <th>id</th>\n",
       "      <th>timestamp</th>\n",
       "      <th>product_id</th>\n",
       "      <th>estimated_stock_pct</th>\n",
       "    </tr>\n",
       "  </thead>\n",
       "  <tbody>\n",
       "    <tr>\n",
       "      <th>0</th>\n",
       "      <td>0</td>\n",
       "      <td>4220e505-c247-478d-9831-6b9f87a4488a</td>\n",
       "      <td>2022-03-07 12:00:00</td>\n",
       "      <td>f658605e-75f3-4fed-a655-c0903f344427</td>\n",
       "      <td>0.75</td>\n",
       "    </tr>\n",
       "    <tr>\n",
       "      <th>1</th>\n",
       "      <td>1</td>\n",
       "      <td>f2612b26-fc82-49ea-8940-0751fdd4d9ef</td>\n",
       "      <td>2022-03-07 16:00:00</td>\n",
       "      <td>de06083a-f5c0-451d-b2f4-9ab88b52609d</td>\n",
       "      <td>0.48</td>\n",
       "    </tr>\n",
       "    <tr>\n",
       "      <th>2</th>\n",
       "      <td>2</td>\n",
       "      <td>989a287f-67e6-4478-aa49-c3a35dac0e2e</td>\n",
       "      <td>2022-03-01 18:00:00</td>\n",
       "      <td>ce8f3a04-d1a4-43b1-a7c2-fa1b8e7674c8</td>\n",
       "      <td>0.58</td>\n",
       "    </tr>\n",
       "  </tbody>\n",
       "</table>\n",
       "</div>"
      ],
      "text/plain": [
       "   Unnamed: 0                                    id           timestamp  \\\n",
       "0           0  4220e505-c247-478d-9831-6b9f87a4488a 2022-03-07 12:00:00   \n",
       "1           1  f2612b26-fc82-49ea-8940-0751fdd4d9ef 2022-03-07 16:00:00   \n",
       "2           2  989a287f-67e6-4478-aa49-c3a35dac0e2e 2022-03-01 18:00:00   \n",
       "\n",
       "                             product_id  estimated_stock_pct  \n",
       "0  f658605e-75f3-4fed-a655-c0903f344427                 0.75  \n",
       "1  de06083a-f5c0-451d-b2f4-9ab88b52609d                 0.48  \n",
       "2  ce8f3a04-d1a4-43b1-a7c2-fa1b8e7674c8                 0.58  "
      ]
     },
     "execution_count": 240,
     "metadata": {},
     "output_type": "execute_result"
    }
   ],
   "source": [
    "sensor_df=convert_timestamp_to_hourly(sensor_df,'timestamp')\n",
    "sensor_df.head(3)"
   ]
  },
  {
   "cell_type": "code",
   "execution_count": 241,
   "id": "76fe993e",
   "metadata": {},
   "outputs": [
    {
     "data": {
      "text/html": [
       "<div>\n",
       "<style scoped>\n",
       "    .dataframe tbody tr th:only-of-type {\n",
       "        vertical-align: middle;\n",
       "    }\n",
       "\n",
       "    .dataframe tbody tr th {\n",
       "        vertical-align: top;\n",
       "    }\n",
       "\n",
       "    .dataframe thead th {\n",
       "        text-align: right;\n",
       "    }\n",
       "</style>\n",
       "<table border=\"1\" class=\"dataframe\">\n",
       "  <thead>\n",
       "    <tr style=\"text-align: right;\">\n",
       "      <th></th>\n",
       "      <th>Unnamed: 0</th>\n",
       "      <th>id</th>\n",
       "      <th>timestamp</th>\n",
       "      <th>temperature</th>\n",
       "    </tr>\n",
       "  </thead>\n",
       "  <tbody>\n",
       "    <tr>\n",
       "      <th>0</th>\n",
       "      <td>0</td>\n",
       "      <td>d1ca1ef8-0eac-42fc-af80-97106efc7b13</td>\n",
       "      <td>2022-03-07 15:00:00</td>\n",
       "      <td>2.96</td>\n",
       "    </tr>\n",
       "    <tr>\n",
       "      <th>1</th>\n",
       "      <td>1</td>\n",
       "      <td>4b8a66c4-0f3a-4f16-826f-8cf9397e9d18</td>\n",
       "      <td>2022-03-01 09:00:00</td>\n",
       "      <td>1.88</td>\n",
       "    </tr>\n",
       "    <tr>\n",
       "      <th>2</th>\n",
       "      <td>2</td>\n",
       "      <td>3d47a0c7-1e72-4512-812f-b6b5d8428cf3</td>\n",
       "      <td>2022-03-04 15:00:00</td>\n",
       "      <td>1.78</td>\n",
       "    </tr>\n",
       "  </tbody>\n",
       "</table>\n",
       "</div>"
      ],
      "text/plain": [
       "   Unnamed: 0                                    id           timestamp  \\\n",
       "0           0  d1ca1ef8-0eac-42fc-af80-97106efc7b13 2022-03-07 15:00:00   \n",
       "1           1  4b8a66c4-0f3a-4f16-826f-8cf9397e9d18 2022-03-01 09:00:00   \n",
       "2           2  3d47a0c7-1e72-4512-812f-b6b5d8428cf3 2022-03-04 15:00:00   \n",
       "\n",
       "   temperature  \n",
       "0         2.96  \n",
       "1         1.88  \n",
       "2         1.78  "
      ]
     },
     "execution_count": 241,
     "metadata": {},
     "output_type": "execute_result"
    }
   ],
   "source": [
    "storagetemp_df=convert_timestamp_to_hourly(storagetemp_df,'timestamp')\n",
    "storagetemp_df.head(3)"
   ]
  },
  {
   "cell_type": "code",
   "execution_count": 242,
   "id": "a08f7fec",
   "metadata": {},
   "outputs": [],
   "source": [
    "df_agg=df.groupby(['timestamp','product_id']).agg({'quantity':'sum'}).reset_index()"
   ]
  },
  {
   "cell_type": "code",
   "execution_count": 243,
   "id": "09b920f0",
   "metadata": {},
   "outputs": [
    {
     "data": {
      "text/html": [
       "<div>\n",
       "<style scoped>\n",
       "    .dataframe tbody tr th:only-of-type {\n",
       "        vertical-align: middle;\n",
       "    }\n",
       "\n",
       "    .dataframe tbody tr th {\n",
       "        vertical-align: top;\n",
       "    }\n",
       "\n",
       "    .dataframe thead th {\n",
       "        text-align: right;\n",
       "    }\n",
       "</style>\n",
       "<table border=\"1\" class=\"dataframe\">\n",
       "  <thead>\n",
       "    <tr style=\"text-align: right;\">\n",
       "      <th></th>\n",
       "      <th>timestamp</th>\n",
       "      <th>product_id</th>\n",
       "      <th>quantity</th>\n",
       "    </tr>\n",
       "  </thead>\n",
       "  <tbody>\n",
       "    <tr>\n",
       "      <th>0</th>\n",
       "      <td>2022-03-01 09:00:00</td>\n",
       "      <td>00e120bb-89d6-4df5-bc48-a051148e3d03</td>\n",
       "      <td>3</td>\n",
       "    </tr>\n",
       "    <tr>\n",
       "      <th>1</th>\n",
       "      <td>2022-03-01 09:00:00</td>\n",
       "      <td>01f3cdd9-8e9e-4dff-9b5c-69698a0388d0</td>\n",
       "      <td>3</td>\n",
       "    </tr>\n",
       "    <tr>\n",
       "      <th>2</th>\n",
       "      <td>2022-03-01 09:00:00</td>\n",
       "      <td>03a2557a-aa12-4add-a6d4-77dc36342067</td>\n",
       "      <td>3</td>\n",
       "    </tr>\n",
       "  </tbody>\n",
       "</table>\n",
       "</div>"
      ],
      "text/plain": [
       "            timestamp                            product_id  quantity\n",
       "0 2022-03-01 09:00:00  00e120bb-89d6-4df5-bc48-a051148e3d03         3\n",
       "1 2022-03-01 09:00:00  01f3cdd9-8e9e-4dff-9b5c-69698a0388d0         3\n",
       "2 2022-03-01 09:00:00  03a2557a-aa12-4add-a6d4-77dc36342067         3"
      ]
     },
     "execution_count": 243,
     "metadata": {},
     "output_type": "execute_result"
    }
   ],
   "source": [
    "df_agg.head(3)"
   ]
  },
  {
   "cell_type": "code",
   "execution_count": 244,
   "id": "623000b1",
   "metadata": {},
   "outputs": [
    {
     "data": {
      "text/html": [
       "<div>\n",
       "<style scoped>\n",
       "    .dataframe tbody tr th:only-of-type {\n",
       "        vertical-align: middle;\n",
       "    }\n",
       "\n",
       "    .dataframe tbody tr th {\n",
       "        vertical-align: top;\n",
       "    }\n",
       "\n",
       "    .dataframe thead th {\n",
       "        text-align: right;\n",
       "    }\n",
       "</style>\n",
       "<table border=\"1\" class=\"dataframe\">\n",
       "  <thead>\n",
       "    <tr style=\"text-align: right;\">\n",
       "      <th></th>\n",
       "      <th>timestamp</th>\n",
       "      <th>product_id</th>\n",
       "      <th>estimated_stock_pct</th>\n",
       "    </tr>\n",
       "  </thead>\n",
       "  <tbody>\n",
       "    <tr>\n",
       "      <th>0</th>\n",
       "      <td>2022-03-01 09:00:00</td>\n",
       "      <td>00e120bb-89d6-4df5-bc48-a051148e3d03</td>\n",
       "      <td>0.89</td>\n",
       "    </tr>\n",
       "    <tr>\n",
       "      <th>1</th>\n",
       "      <td>2022-03-01 09:00:00</td>\n",
       "      <td>01f3cdd9-8e9e-4dff-9b5c-69698a0388d0</td>\n",
       "      <td>0.14</td>\n",
       "    </tr>\n",
       "    <tr>\n",
       "      <th>2</th>\n",
       "      <td>2022-03-01 09:00:00</td>\n",
       "      <td>01ff0803-ae73-4234-971d-5713c97b7f4b</td>\n",
       "      <td>0.67</td>\n",
       "    </tr>\n",
       "    <tr>\n",
       "      <th>3</th>\n",
       "      <td>2022-03-01 09:00:00</td>\n",
       "      <td>0363eb21-8c74-47e1-a216-c37e565e5ceb</td>\n",
       "      <td>0.82</td>\n",
       "    </tr>\n",
       "    <tr>\n",
       "      <th>4</th>\n",
       "      <td>2022-03-01 09:00:00</td>\n",
       "      <td>03f0b20e-3b5b-444f-bc39-cdfa2523d4bc</td>\n",
       "      <td>0.05</td>\n",
       "    </tr>\n",
       "  </tbody>\n",
       "</table>\n",
       "</div>"
      ],
      "text/plain": [
       "            timestamp                            product_id  \\\n",
       "0 2022-03-01 09:00:00  00e120bb-89d6-4df5-bc48-a051148e3d03   \n",
       "1 2022-03-01 09:00:00  01f3cdd9-8e9e-4dff-9b5c-69698a0388d0   \n",
       "2 2022-03-01 09:00:00  01ff0803-ae73-4234-971d-5713c97b7f4b   \n",
       "3 2022-03-01 09:00:00  0363eb21-8c74-47e1-a216-c37e565e5ceb   \n",
       "4 2022-03-01 09:00:00  03f0b20e-3b5b-444f-bc39-cdfa2523d4bc   \n",
       "\n",
       "   estimated_stock_pct  \n",
       "0                 0.89  \n",
       "1                 0.14  \n",
       "2                 0.67  \n",
       "3                 0.82  \n",
       "4                 0.05  "
      ]
     },
     "execution_count": 244,
     "metadata": {},
     "output_type": "execute_result"
    }
   ],
   "source": [
    "stock_agg=sensor_df.groupby(['timestamp','product_id']).agg({'estimated_stock_pct':'mean'}).reset_index()\n",
    "stock_agg.head()"
   ]
  },
  {
   "cell_type": "code",
   "execution_count": 245,
   "id": "13d40339",
   "metadata": {},
   "outputs": [
    {
     "data": {
      "text/html": [
       "<div>\n",
       "<style scoped>\n",
       "    .dataframe tbody tr th:only-of-type {\n",
       "        vertical-align: middle;\n",
       "    }\n",
       "\n",
       "    .dataframe tbody tr th {\n",
       "        vertical-align: top;\n",
       "    }\n",
       "\n",
       "    .dataframe thead th {\n",
       "        text-align: right;\n",
       "    }\n",
       "</style>\n",
       "<table border=\"1\" class=\"dataframe\">\n",
       "  <thead>\n",
       "    <tr style=\"text-align: right;\">\n",
       "      <th></th>\n",
       "      <th>timestamp</th>\n",
       "      <th>temperature</th>\n",
       "    </tr>\n",
       "  </thead>\n",
       "  <tbody>\n",
       "    <tr>\n",
       "      <th>0</th>\n",
       "      <td>2022-03-01 09:00:00</td>\n",
       "      <td>-0.028850</td>\n",
       "    </tr>\n",
       "    <tr>\n",
       "      <th>1</th>\n",
       "      <td>2022-03-01 10:00:00</td>\n",
       "      <td>1.284314</td>\n",
       "    </tr>\n",
       "    <tr>\n",
       "      <th>2</th>\n",
       "      <td>2022-03-01 11:00:00</td>\n",
       "      <td>-0.560000</td>\n",
       "    </tr>\n",
       "    <tr>\n",
       "      <th>3</th>\n",
       "      <td>2022-03-01 12:00:00</td>\n",
       "      <td>-0.537721</td>\n",
       "    </tr>\n",
       "    <tr>\n",
       "      <th>4</th>\n",
       "      <td>2022-03-01 13:00:00</td>\n",
       "      <td>-0.188734</td>\n",
       "    </tr>\n",
       "  </tbody>\n",
       "</table>\n",
       "</div>"
      ],
      "text/plain": [
       "            timestamp  temperature\n",
       "0 2022-03-01 09:00:00    -0.028850\n",
       "1 2022-03-01 10:00:00     1.284314\n",
       "2 2022-03-01 11:00:00    -0.560000\n",
       "3 2022-03-01 12:00:00    -0.537721\n",
       "4 2022-03-01 13:00:00    -0.188734"
      ]
     },
     "execution_count": 245,
     "metadata": {},
     "output_type": "execute_result"
    }
   ],
   "source": [
    "temp_agg=storagetemp_df.groupby('timestamp').agg({'temperature':'mean'}).reset_index()\n",
    "temp_agg.head()"
   ]
  },
  {
   "cell_type": "code",
   "execution_count": 246,
   "id": "57376770",
   "metadata": {},
   "outputs": [
    {
     "data": {
      "text/html": [
       "<div>\n",
       "<style scoped>\n",
       "    .dataframe tbody tr th:only-of-type {\n",
       "        vertical-align: middle;\n",
       "    }\n",
       "\n",
       "    .dataframe tbody tr th {\n",
       "        vertical-align: top;\n",
       "    }\n",
       "\n",
       "    .dataframe thead th {\n",
       "        text-align: right;\n",
       "    }\n",
       "</style>\n",
       "<table border=\"1\" class=\"dataframe\">\n",
       "  <thead>\n",
       "    <tr style=\"text-align: right;\">\n",
       "      <th></th>\n",
       "      <th>timestamp</th>\n",
       "      <th>product_id</th>\n",
       "      <th>estimated_stock_pct</th>\n",
       "      <th>quantity</th>\n",
       "    </tr>\n",
       "  </thead>\n",
       "  <tbody>\n",
       "    <tr>\n",
       "      <th>0</th>\n",
       "      <td>2022-03-01 09:00:00</td>\n",
       "      <td>00e120bb-89d6-4df5-bc48-a051148e3d03</td>\n",
       "      <td>0.89</td>\n",
       "      <td>3.0</td>\n",
       "    </tr>\n",
       "    <tr>\n",
       "      <th>1</th>\n",
       "      <td>2022-03-01 09:00:00</td>\n",
       "      <td>01f3cdd9-8e9e-4dff-9b5c-69698a0388d0</td>\n",
       "      <td>0.14</td>\n",
       "      <td>3.0</td>\n",
       "    </tr>\n",
       "    <tr>\n",
       "      <th>2</th>\n",
       "      <td>2022-03-01 09:00:00</td>\n",
       "      <td>01ff0803-ae73-4234-971d-5713c97b7f4b</td>\n",
       "      <td>0.67</td>\n",
       "      <td>NaN</td>\n",
       "    </tr>\n",
       "    <tr>\n",
       "      <th>3</th>\n",
       "      <td>2022-03-01 09:00:00</td>\n",
       "      <td>0363eb21-8c74-47e1-a216-c37e565e5ceb</td>\n",
       "      <td>0.82</td>\n",
       "      <td>NaN</td>\n",
       "    </tr>\n",
       "    <tr>\n",
       "      <th>4</th>\n",
       "      <td>2022-03-01 09:00:00</td>\n",
       "      <td>03f0b20e-3b5b-444f-bc39-cdfa2523d4bc</td>\n",
       "      <td>0.05</td>\n",
       "      <td>NaN</td>\n",
       "    </tr>\n",
       "  </tbody>\n",
       "</table>\n",
       "</div>"
      ],
      "text/plain": [
       "            timestamp                            product_id  \\\n",
       "0 2022-03-01 09:00:00  00e120bb-89d6-4df5-bc48-a051148e3d03   \n",
       "1 2022-03-01 09:00:00  01f3cdd9-8e9e-4dff-9b5c-69698a0388d0   \n",
       "2 2022-03-01 09:00:00  01ff0803-ae73-4234-971d-5713c97b7f4b   \n",
       "3 2022-03-01 09:00:00  0363eb21-8c74-47e1-a216-c37e565e5ceb   \n",
       "4 2022-03-01 09:00:00  03f0b20e-3b5b-444f-bc39-cdfa2523d4bc   \n",
       "\n",
       "   estimated_stock_pct  quantity  \n",
       "0                 0.89       3.0  \n",
       "1                 0.14       3.0  \n",
       "2                 0.67       NaN  \n",
       "3                 0.82       NaN  \n",
       "4                 0.05       NaN  "
      ]
     },
     "execution_count": 246,
     "metadata": {},
     "output_type": "execute_result"
    }
   ],
   "source": [
    "merged_df=stock_agg.merge(df_agg,on=['timestamp','product_id'],how='left')\n",
    "merged_df.head()"
   ]
  },
  {
   "cell_type": "code",
   "execution_count": 247,
   "id": "d9fdad34",
   "metadata": {},
   "outputs": [
    {
     "data": {
      "text/html": [
       "<div>\n",
       "<style scoped>\n",
       "    .dataframe tbody tr th:only-of-type {\n",
       "        vertical-align: middle;\n",
       "    }\n",
       "\n",
       "    .dataframe tbody tr th {\n",
       "        vertical-align: top;\n",
       "    }\n",
       "\n",
       "    .dataframe thead th {\n",
       "        text-align: right;\n",
       "    }\n",
       "</style>\n",
       "<table border=\"1\" class=\"dataframe\">\n",
       "  <thead>\n",
       "    <tr style=\"text-align: right;\">\n",
       "      <th></th>\n",
       "      <th>timestamp</th>\n",
       "      <th>product_id</th>\n",
       "      <th>estimated_stock_pct</th>\n",
       "      <th>quantity</th>\n",
       "      <th>temperature</th>\n",
       "    </tr>\n",
       "  </thead>\n",
       "  <tbody>\n",
       "    <tr>\n",
       "      <th>0</th>\n",
       "      <td>2022-03-01 09:00:00</td>\n",
       "      <td>00e120bb-89d6-4df5-bc48-a051148e3d03</td>\n",
       "      <td>0.89</td>\n",
       "      <td>3.0</td>\n",
       "      <td>-0.028850</td>\n",
       "    </tr>\n",
       "    <tr>\n",
       "      <th>1</th>\n",
       "      <td>2022-03-01 09:00:00</td>\n",
       "      <td>01f3cdd9-8e9e-4dff-9b5c-69698a0388d0</td>\n",
       "      <td>0.14</td>\n",
       "      <td>3.0</td>\n",
       "      <td>-0.028850</td>\n",
       "    </tr>\n",
       "    <tr>\n",
       "      <th>2</th>\n",
       "      <td>2022-03-01 09:00:00</td>\n",
       "      <td>01ff0803-ae73-4234-971d-5713c97b7f4b</td>\n",
       "      <td>0.67</td>\n",
       "      <td>NaN</td>\n",
       "      <td>-0.028850</td>\n",
       "    </tr>\n",
       "    <tr>\n",
       "      <th>3</th>\n",
       "      <td>2022-03-01 09:00:00</td>\n",
       "      <td>0363eb21-8c74-47e1-a216-c37e565e5ceb</td>\n",
       "      <td>0.82</td>\n",
       "      <td>NaN</td>\n",
       "      <td>-0.028850</td>\n",
       "    </tr>\n",
       "    <tr>\n",
       "      <th>4</th>\n",
       "      <td>2022-03-01 09:00:00</td>\n",
       "      <td>03f0b20e-3b5b-444f-bc39-cdfa2523d4bc</td>\n",
       "      <td>0.05</td>\n",
       "      <td>NaN</td>\n",
       "      <td>-0.028850</td>\n",
       "    </tr>\n",
       "    <tr>\n",
       "      <th>...</th>\n",
       "      <td>...</td>\n",
       "      <td>...</td>\n",
       "      <td>...</td>\n",
       "      <td>...</td>\n",
       "      <td>...</td>\n",
       "    </tr>\n",
       "    <tr>\n",
       "      <th>10840</th>\n",
       "      <td>2022-03-07 19:00:00</td>\n",
       "      <td>ecac012c-1dec-41d4-9ebd-56fb7166f6d9</td>\n",
       "      <td>0.50</td>\n",
       "      <td>4.0</td>\n",
       "      <td>-0.165077</td>\n",
       "    </tr>\n",
       "    <tr>\n",
       "      <th>10841</th>\n",
       "      <td>2022-03-07 19:00:00</td>\n",
       "      <td>ed7f6b14-67c9-42a4-8576-c803020eedda</td>\n",
       "      <td>0.26</td>\n",
       "      <td>NaN</td>\n",
       "      <td>-0.165077</td>\n",
       "    </tr>\n",
       "    <tr>\n",
       "      <th>10842</th>\n",
       "      <td>2022-03-07 19:00:00</td>\n",
       "      <td>edf4ac93-4e14-4a3d-8c60-e715210cf3f9</td>\n",
       "      <td>0.78</td>\n",
       "      <td>3.0</td>\n",
       "      <td>-0.165077</td>\n",
       "    </tr>\n",
       "    <tr>\n",
       "      <th>10843</th>\n",
       "      <td>2022-03-07 19:00:00</td>\n",
       "      <td>f01b189c-6345-4639-a8d1-89e1fc67c443</td>\n",
       "      <td>0.92</td>\n",
       "      <td>3.0</td>\n",
       "      <td>-0.165077</td>\n",
       "    </tr>\n",
       "    <tr>\n",
       "      <th>10844</th>\n",
       "      <td>2022-03-07 19:00:00</td>\n",
       "      <td>f3bec808-bee0-4597-a129-53a3a2805a43</td>\n",
       "      <td>0.01</td>\n",
       "      <td>2.0</td>\n",
       "      <td>-0.165077</td>\n",
       "    </tr>\n",
       "  </tbody>\n",
       "</table>\n",
       "<p>10845 rows × 5 columns</p>\n",
       "</div>"
      ],
      "text/plain": [
       "                timestamp                            product_id  \\\n",
       "0     2022-03-01 09:00:00  00e120bb-89d6-4df5-bc48-a051148e3d03   \n",
       "1     2022-03-01 09:00:00  01f3cdd9-8e9e-4dff-9b5c-69698a0388d0   \n",
       "2     2022-03-01 09:00:00  01ff0803-ae73-4234-971d-5713c97b7f4b   \n",
       "3     2022-03-01 09:00:00  0363eb21-8c74-47e1-a216-c37e565e5ceb   \n",
       "4     2022-03-01 09:00:00  03f0b20e-3b5b-444f-bc39-cdfa2523d4bc   \n",
       "...                   ...                                   ...   \n",
       "10840 2022-03-07 19:00:00  ecac012c-1dec-41d4-9ebd-56fb7166f6d9   \n",
       "10841 2022-03-07 19:00:00  ed7f6b14-67c9-42a4-8576-c803020eedda   \n",
       "10842 2022-03-07 19:00:00  edf4ac93-4e14-4a3d-8c60-e715210cf3f9   \n",
       "10843 2022-03-07 19:00:00  f01b189c-6345-4639-a8d1-89e1fc67c443   \n",
       "10844 2022-03-07 19:00:00  f3bec808-bee0-4597-a129-53a3a2805a43   \n",
       "\n",
       "       estimated_stock_pct  quantity  temperature  \n",
       "0                     0.89       3.0    -0.028850  \n",
       "1                     0.14       3.0    -0.028850  \n",
       "2                     0.67       NaN    -0.028850  \n",
       "3                     0.82       NaN    -0.028850  \n",
       "4                     0.05       NaN    -0.028850  \n",
       "...                    ...       ...          ...  \n",
       "10840                 0.50       4.0    -0.165077  \n",
       "10841                 0.26       NaN    -0.165077  \n",
       "10842                 0.78       3.0    -0.165077  \n",
       "10843                 0.92       3.0    -0.165077  \n",
       "10844                 0.01       2.0    -0.165077  \n",
       "\n",
       "[10845 rows x 5 columns]"
      ]
     },
     "execution_count": 247,
     "metadata": {},
     "output_type": "execute_result"
    }
   ],
   "source": [
    "merged_df=merged_df.merge(temp_agg,on=['timestamp'],how='left')\n",
    "merged_df"
   ]
  },
  {
   "cell_type": "code",
   "execution_count": 248,
   "id": "dc800d17",
   "metadata": {},
   "outputs": [
    {
     "name": "stdout",
     "output_type": "stream",
     "text": [
      "<class 'pandas.core.frame.DataFrame'>\n",
      "Int64Index: 10845 entries, 0 to 10844\n",
      "Data columns (total 5 columns):\n",
      " #   Column               Non-Null Count  Dtype         \n",
      "---  ------               --------------  -----         \n",
      " 0   timestamp            10845 non-null  datetime64[ns]\n",
      " 1   product_id           10845 non-null  object        \n",
      " 2   estimated_stock_pct  10845 non-null  float64       \n",
      " 3   quantity             3067 non-null   float64       \n",
      " 4   temperature          10845 non-null  float64       \n",
      "dtypes: datetime64[ns](1), float64(3), object(1)\n",
      "memory usage: 508.4+ KB\n"
     ]
    }
   ],
   "source": [
    "merged_df.info()"
   ]
  },
  {
   "cell_type": "code",
   "execution_count": 249,
   "id": "54a9787d",
   "metadata": {},
   "outputs": [
    {
     "name": "stdout",
     "output_type": "stream",
     "text": [
      "<class 'pandas.core.frame.DataFrame'>\n",
      "Int64Index: 10845 entries, 0 to 10844\n",
      "Data columns (total 5 columns):\n",
      " #   Column               Non-Null Count  Dtype         \n",
      "---  ------               --------------  -----         \n",
      " 0   timestamp            10845 non-null  datetime64[ns]\n",
      " 1   product_id           10845 non-null  object        \n",
      " 2   estimated_stock_pct  10845 non-null  float64       \n",
      " 3   quantity             10845 non-null  float64       \n",
      " 4   temperature          10845 non-null  float64       \n",
      "dtypes: datetime64[ns](1), float64(3), object(1)\n",
      "memory usage: 508.4+ KB\n"
     ]
    }
   ],
   "source": [
    "merged_df['quantity']=merged_df['quantity'].fillna(0)\n",
    "merged_df.info()"
   ]
  },
  {
   "cell_type": "code",
   "execution_count": 250,
   "id": "ecf38b76",
   "metadata": {},
   "outputs": [],
   "source": [
    "product_categories = df[['product_id', 'category']]\n",
    "product_categories = product_categories.drop_duplicates()\n",
    "\n",
    "product_price = df[['product_id', 'unit_price']]\n",
    "product_price = product_price.drop_duplicates()\n"
   ]
  },
  {
   "cell_type": "code",
   "execution_count": 251,
   "id": "041e5103",
   "metadata": {},
   "outputs": [
    {
     "data": {
      "text/html": [
       "<div>\n",
       "<style scoped>\n",
       "    .dataframe tbody tr th:only-of-type {\n",
       "        vertical-align: middle;\n",
       "    }\n",
       "\n",
       "    .dataframe tbody tr th {\n",
       "        vertical-align: top;\n",
       "    }\n",
       "\n",
       "    .dataframe thead th {\n",
       "        text-align: right;\n",
       "    }\n",
       "</style>\n",
       "<table border=\"1\" class=\"dataframe\">\n",
       "  <thead>\n",
       "    <tr style=\"text-align: right;\">\n",
       "      <th></th>\n",
       "      <th>timestamp</th>\n",
       "      <th>product_id</th>\n",
       "      <th>estimated_stock_pct</th>\n",
       "      <th>quantity</th>\n",
       "      <th>temperature</th>\n",
       "      <th>category</th>\n",
       "    </tr>\n",
       "  </thead>\n",
       "  <tbody>\n",
       "    <tr>\n",
       "      <th>0</th>\n",
       "      <td>2022-03-01 09:00:00</td>\n",
       "      <td>00e120bb-89d6-4df5-bc48-a051148e3d03</td>\n",
       "      <td>0.89</td>\n",
       "      <td>3.0</td>\n",
       "      <td>-0.02885</td>\n",
       "      <td>kitchen</td>\n",
       "    </tr>\n",
       "    <tr>\n",
       "      <th>1</th>\n",
       "      <td>2022-03-01 09:00:00</td>\n",
       "      <td>01f3cdd9-8e9e-4dff-9b5c-69698a0388d0</td>\n",
       "      <td>0.14</td>\n",
       "      <td>3.0</td>\n",
       "      <td>-0.02885</td>\n",
       "      <td>vegetables</td>\n",
       "    </tr>\n",
       "    <tr>\n",
       "      <th>2</th>\n",
       "      <td>2022-03-01 09:00:00</td>\n",
       "      <td>01ff0803-ae73-4234-971d-5713c97b7f4b</td>\n",
       "      <td>0.67</td>\n",
       "      <td>0.0</td>\n",
       "      <td>-0.02885</td>\n",
       "      <td>baby products</td>\n",
       "    </tr>\n",
       "    <tr>\n",
       "      <th>3</th>\n",
       "      <td>2022-03-01 09:00:00</td>\n",
       "      <td>0363eb21-8c74-47e1-a216-c37e565e5ceb</td>\n",
       "      <td>0.82</td>\n",
       "      <td>0.0</td>\n",
       "      <td>-0.02885</td>\n",
       "      <td>beverages</td>\n",
       "    </tr>\n",
       "    <tr>\n",
       "      <th>4</th>\n",
       "      <td>2022-03-01 09:00:00</td>\n",
       "      <td>03f0b20e-3b5b-444f-bc39-cdfa2523d4bc</td>\n",
       "      <td>0.05</td>\n",
       "      <td>0.0</td>\n",
       "      <td>-0.02885</td>\n",
       "      <td>pets</td>\n",
       "    </tr>\n",
       "  </tbody>\n",
       "</table>\n",
       "</div>"
      ],
      "text/plain": [
       "            timestamp                            product_id  \\\n",
       "0 2022-03-01 09:00:00  00e120bb-89d6-4df5-bc48-a051148e3d03   \n",
       "1 2022-03-01 09:00:00  01f3cdd9-8e9e-4dff-9b5c-69698a0388d0   \n",
       "2 2022-03-01 09:00:00  01ff0803-ae73-4234-971d-5713c97b7f4b   \n",
       "3 2022-03-01 09:00:00  0363eb21-8c74-47e1-a216-c37e565e5ceb   \n",
       "4 2022-03-01 09:00:00  03f0b20e-3b5b-444f-bc39-cdfa2523d4bc   \n",
       "\n",
       "   estimated_stock_pct  quantity  temperature       category  \n",
       "0                 0.89       3.0     -0.02885        kitchen  \n",
       "1                 0.14       3.0     -0.02885     vegetables  \n",
       "2                 0.67       0.0     -0.02885  baby products  \n",
       "3                 0.82       0.0     -0.02885      beverages  \n",
       "4                 0.05       0.0     -0.02885           pets  "
      ]
     },
     "execution_count": 251,
     "metadata": {},
     "output_type": "execute_result"
    }
   ],
   "source": [
    "merged_df = merged_df.merge(product_categories, on=\"product_id\", how=\"left\")\n",
    "merged_df.head()"
   ]
  },
  {
   "cell_type": "code",
   "execution_count": 252,
   "id": "d0737d66",
   "metadata": {},
   "outputs": [
    {
     "data": {
      "text/html": [
       "<div>\n",
       "<style scoped>\n",
       "    .dataframe tbody tr th:only-of-type {\n",
       "        vertical-align: middle;\n",
       "    }\n",
       "\n",
       "    .dataframe tbody tr th {\n",
       "        vertical-align: top;\n",
       "    }\n",
       "\n",
       "    .dataframe thead th {\n",
       "        text-align: right;\n",
       "    }\n",
       "</style>\n",
       "<table border=\"1\" class=\"dataframe\">\n",
       "  <thead>\n",
       "    <tr style=\"text-align: right;\">\n",
       "      <th></th>\n",
       "      <th>timestamp</th>\n",
       "      <th>product_id</th>\n",
       "      <th>estimated_stock_pct</th>\n",
       "      <th>quantity</th>\n",
       "      <th>temperature</th>\n",
       "      <th>category</th>\n",
       "      <th>unit_price</th>\n",
       "    </tr>\n",
       "  </thead>\n",
       "  <tbody>\n",
       "    <tr>\n",
       "      <th>0</th>\n",
       "      <td>2022-03-01 09:00:00</td>\n",
       "      <td>00e120bb-89d6-4df5-bc48-a051148e3d03</td>\n",
       "      <td>0.89</td>\n",
       "      <td>3.0</td>\n",
       "      <td>-0.02885</td>\n",
       "      <td>kitchen</td>\n",
       "      <td>11.19</td>\n",
       "    </tr>\n",
       "    <tr>\n",
       "      <th>1</th>\n",
       "      <td>2022-03-01 09:00:00</td>\n",
       "      <td>01f3cdd9-8e9e-4dff-9b5c-69698a0388d0</td>\n",
       "      <td>0.14</td>\n",
       "      <td>3.0</td>\n",
       "      <td>-0.02885</td>\n",
       "      <td>vegetables</td>\n",
       "      <td>1.49</td>\n",
       "    </tr>\n",
       "    <tr>\n",
       "      <th>2</th>\n",
       "      <td>2022-03-01 09:00:00</td>\n",
       "      <td>01ff0803-ae73-4234-971d-5713c97b7f4b</td>\n",
       "      <td>0.67</td>\n",
       "      <td>0.0</td>\n",
       "      <td>-0.02885</td>\n",
       "      <td>baby products</td>\n",
       "      <td>14.19</td>\n",
       "    </tr>\n",
       "    <tr>\n",
       "      <th>3</th>\n",
       "      <td>2022-03-01 09:00:00</td>\n",
       "      <td>0363eb21-8c74-47e1-a216-c37e565e5ceb</td>\n",
       "      <td>0.82</td>\n",
       "      <td>0.0</td>\n",
       "      <td>-0.02885</td>\n",
       "      <td>beverages</td>\n",
       "      <td>20.19</td>\n",
       "    </tr>\n",
       "    <tr>\n",
       "      <th>4</th>\n",
       "      <td>2022-03-01 09:00:00</td>\n",
       "      <td>03f0b20e-3b5b-444f-bc39-cdfa2523d4bc</td>\n",
       "      <td>0.05</td>\n",
       "      <td>0.0</td>\n",
       "      <td>-0.02885</td>\n",
       "      <td>pets</td>\n",
       "      <td>8.19</td>\n",
       "    </tr>\n",
       "  </tbody>\n",
       "</table>\n",
       "</div>"
      ],
      "text/plain": [
       "            timestamp                            product_id  \\\n",
       "0 2022-03-01 09:00:00  00e120bb-89d6-4df5-bc48-a051148e3d03   \n",
       "1 2022-03-01 09:00:00  01f3cdd9-8e9e-4dff-9b5c-69698a0388d0   \n",
       "2 2022-03-01 09:00:00  01ff0803-ae73-4234-971d-5713c97b7f4b   \n",
       "3 2022-03-01 09:00:00  0363eb21-8c74-47e1-a216-c37e565e5ceb   \n",
       "4 2022-03-01 09:00:00  03f0b20e-3b5b-444f-bc39-cdfa2523d4bc   \n",
       "\n",
       "   estimated_stock_pct  quantity  temperature       category  unit_price  \n",
       "0                 0.89       3.0     -0.02885        kitchen       11.19  \n",
       "1                 0.14       3.0     -0.02885     vegetables        1.49  \n",
       "2                 0.67       0.0     -0.02885  baby products       14.19  \n",
       "3                 0.82       0.0     -0.02885      beverages       20.19  \n",
       "4                 0.05       0.0     -0.02885           pets        8.19  "
      ]
     },
     "execution_count": 252,
     "metadata": {},
     "output_type": "execute_result"
    }
   ],
   "source": [
    "merged_df = merged_df.merge(product_price, on=\"product_id\", how=\"left\")\n",
    "merged_df.head()"
   ]
  },
  {
   "cell_type": "code",
   "execution_count": 253,
   "id": "e96e5a78",
   "metadata": {},
   "outputs": [
    {
     "data": {
      "text/html": [
       "<div>\n",
       "<style scoped>\n",
       "    .dataframe tbody tr th:only-of-type {\n",
       "        vertical-align: middle;\n",
       "    }\n",
       "\n",
       "    .dataframe tbody tr th {\n",
       "        vertical-align: top;\n",
       "    }\n",
       "\n",
       "    .dataframe thead th {\n",
       "        text-align: right;\n",
       "    }\n",
       "</style>\n",
       "<table border=\"1\" class=\"dataframe\">\n",
       "  <thead>\n",
       "    <tr style=\"text-align: right;\">\n",
       "      <th></th>\n",
       "      <th>product_id</th>\n",
       "      <th>estimated_stock_pct</th>\n",
       "      <th>quantity</th>\n",
       "      <th>temperature</th>\n",
       "      <th>category</th>\n",
       "      <th>unit_price</th>\n",
       "      <th>timestamp_day_of_month</th>\n",
       "      <th>timestamp_day_of_week</th>\n",
       "      <th>timestamp_hour</th>\n",
       "    </tr>\n",
       "  </thead>\n",
       "  <tbody>\n",
       "    <tr>\n",
       "      <th>0</th>\n",
       "      <td>00e120bb-89d6-4df5-bc48-a051148e3d03</td>\n",
       "      <td>0.89</td>\n",
       "      <td>3.0</td>\n",
       "      <td>-0.02885</td>\n",
       "      <td>kitchen</td>\n",
       "      <td>11.19</td>\n",
       "      <td>1</td>\n",
       "      <td>1</td>\n",
       "      <td>9</td>\n",
       "    </tr>\n",
       "    <tr>\n",
       "      <th>1</th>\n",
       "      <td>01f3cdd9-8e9e-4dff-9b5c-69698a0388d0</td>\n",
       "      <td>0.14</td>\n",
       "      <td>3.0</td>\n",
       "      <td>-0.02885</td>\n",
       "      <td>vegetables</td>\n",
       "      <td>1.49</td>\n",
       "      <td>1</td>\n",
       "      <td>1</td>\n",
       "      <td>9</td>\n",
       "    </tr>\n",
       "    <tr>\n",
       "      <th>2</th>\n",
       "      <td>01ff0803-ae73-4234-971d-5713c97b7f4b</td>\n",
       "      <td>0.67</td>\n",
       "      <td>0.0</td>\n",
       "      <td>-0.02885</td>\n",
       "      <td>baby products</td>\n",
       "      <td>14.19</td>\n",
       "      <td>1</td>\n",
       "      <td>1</td>\n",
       "      <td>9</td>\n",
       "    </tr>\n",
       "    <tr>\n",
       "      <th>3</th>\n",
       "      <td>0363eb21-8c74-47e1-a216-c37e565e5ceb</td>\n",
       "      <td>0.82</td>\n",
       "      <td>0.0</td>\n",
       "      <td>-0.02885</td>\n",
       "      <td>beverages</td>\n",
       "      <td>20.19</td>\n",
       "      <td>1</td>\n",
       "      <td>1</td>\n",
       "      <td>9</td>\n",
       "    </tr>\n",
       "    <tr>\n",
       "      <th>4</th>\n",
       "      <td>03f0b20e-3b5b-444f-bc39-cdfa2523d4bc</td>\n",
       "      <td>0.05</td>\n",
       "      <td>0.0</td>\n",
       "      <td>-0.02885</td>\n",
       "      <td>pets</td>\n",
       "      <td>8.19</td>\n",
       "      <td>1</td>\n",
       "      <td>1</td>\n",
       "      <td>9</td>\n",
       "    </tr>\n",
       "  </tbody>\n",
       "</table>\n",
       "</div>"
      ],
      "text/plain": [
       "                             product_id  estimated_stock_pct  quantity  \\\n",
       "0  00e120bb-89d6-4df5-bc48-a051148e3d03                 0.89       3.0   \n",
       "1  01f3cdd9-8e9e-4dff-9b5c-69698a0388d0                 0.14       3.0   \n",
       "2  01ff0803-ae73-4234-971d-5713c97b7f4b                 0.67       0.0   \n",
       "3  0363eb21-8c74-47e1-a216-c37e565e5ceb                 0.82       0.0   \n",
       "4  03f0b20e-3b5b-444f-bc39-cdfa2523d4bc                 0.05       0.0   \n",
       "\n",
       "   temperature       category  unit_price  timestamp_day_of_month  \\\n",
       "0     -0.02885        kitchen       11.19                       1   \n",
       "1     -0.02885     vegetables        1.49                       1   \n",
       "2     -0.02885  baby products       14.19                       1   \n",
       "3     -0.02885      beverages       20.19                       1   \n",
       "4     -0.02885           pets        8.19                       1   \n",
       "\n",
       "   timestamp_day_of_week  timestamp_hour  \n",
       "0                      1               9  \n",
       "1                      1               9  \n",
       "2                      1               9  \n",
       "3                      1               9  \n",
       "4                      1               9  "
      ]
     },
     "execution_count": 253,
     "metadata": {},
     "output_type": "execute_result"
    }
   ],
   "source": [
    "merged_df['timestamp_day_of_month'] = merged_df['timestamp'].dt.day\n",
    "merged_df['timestamp_day_of_week'] = merged_df['timestamp'].dt.dayofweek\n",
    "merged_df['timestamp_hour'] = merged_df['timestamp'].dt.hour\n",
    "merged_df.drop(columns=['timestamp'], inplace=True)\n",
    "merged_df.head()"
   ]
  },
  {
   "cell_type": "code",
   "execution_count": 254,
   "id": "b5eff3d1",
   "metadata": {},
   "outputs": [
    {
     "data": {
      "text/html": [
       "<div>\n",
       "<style scoped>\n",
       "    .dataframe tbody tr th:only-of-type {\n",
       "        vertical-align: middle;\n",
       "    }\n",
       "\n",
       "    .dataframe tbody tr th {\n",
       "        vertical-align: top;\n",
       "    }\n",
       "\n",
       "    .dataframe thead th {\n",
       "        text-align: right;\n",
       "    }\n",
       "</style>\n",
       "<table border=\"1\" class=\"dataframe\">\n",
       "  <thead>\n",
       "    <tr style=\"text-align: right;\">\n",
       "      <th></th>\n",
       "      <th>product_id</th>\n",
       "      <th>estimated_stock_pct</th>\n",
       "      <th>quantity</th>\n",
       "      <th>temperature</th>\n",
       "      <th>unit_price</th>\n",
       "      <th>timestamp_day_of_month</th>\n",
       "      <th>timestamp_day_of_week</th>\n",
       "      <th>timestamp_hour</th>\n",
       "      <th>category_baby products</th>\n",
       "      <th>category_baked goods</th>\n",
       "      <th>...</th>\n",
       "      <th>category_meat</th>\n",
       "      <th>category_medicine</th>\n",
       "      <th>category_packaged foods</th>\n",
       "      <th>category_personal care</th>\n",
       "      <th>category_pets</th>\n",
       "      <th>category_refrigerated items</th>\n",
       "      <th>category_seafood</th>\n",
       "      <th>category_snacks</th>\n",
       "      <th>category_spices and herbs</th>\n",
       "      <th>category_vegetables</th>\n",
       "    </tr>\n",
       "  </thead>\n",
       "  <tbody>\n",
       "    <tr>\n",
       "      <th>0</th>\n",
       "      <td>00e120bb-89d6-4df5-bc48-a051148e3d03</td>\n",
       "      <td>0.89</td>\n",
       "      <td>3.0</td>\n",
       "      <td>-0.02885</td>\n",
       "      <td>11.19</td>\n",
       "      <td>1</td>\n",
       "      <td>1</td>\n",
       "      <td>9</td>\n",
       "      <td>0</td>\n",
       "      <td>0</td>\n",
       "      <td>...</td>\n",
       "      <td>0</td>\n",
       "      <td>0</td>\n",
       "      <td>0</td>\n",
       "      <td>0</td>\n",
       "      <td>0</td>\n",
       "      <td>0</td>\n",
       "      <td>0</td>\n",
       "      <td>0</td>\n",
       "      <td>0</td>\n",
       "      <td>0</td>\n",
       "    </tr>\n",
       "    <tr>\n",
       "      <th>1</th>\n",
       "      <td>01f3cdd9-8e9e-4dff-9b5c-69698a0388d0</td>\n",
       "      <td>0.14</td>\n",
       "      <td>3.0</td>\n",
       "      <td>-0.02885</td>\n",
       "      <td>1.49</td>\n",
       "      <td>1</td>\n",
       "      <td>1</td>\n",
       "      <td>9</td>\n",
       "      <td>0</td>\n",
       "      <td>0</td>\n",
       "      <td>...</td>\n",
       "      <td>0</td>\n",
       "      <td>0</td>\n",
       "      <td>0</td>\n",
       "      <td>0</td>\n",
       "      <td>0</td>\n",
       "      <td>0</td>\n",
       "      <td>0</td>\n",
       "      <td>0</td>\n",
       "      <td>0</td>\n",
       "      <td>1</td>\n",
       "    </tr>\n",
       "    <tr>\n",
       "      <th>2</th>\n",
       "      <td>01ff0803-ae73-4234-971d-5713c97b7f4b</td>\n",
       "      <td>0.67</td>\n",
       "      <td>0.0</td>\n",
       "      <td>-0.02885</td>\n",
       "      <td>14.19</td>\n",
       "      <td>1</td>\n",
       "      <td>1</td>\n",
       "      <td>9</td>\n",
       "      <td>1</td>\n",
       "      <td>0</td>\n",
       "      <td>...</td>\n",
       "      <td>0</td>\n",
       "      <td>0</td>\n",
       "      <td>0</td>\n",
       "      <td>0</td>\n",
       "      <td>0</td>\n",
       "      <td>0</td>\n",
       "      <td>0</td>\n",
       "      <td>0</td>\n",
       "      <td>0</td>\n",
       "      <td>0</td>\n",
       "    </tr>\n",
       "    <tr>\n",
       "      <th>3</th>\n",
       "      <td>0363eb21-8c74-47e1-a216-c37e565e5ceb</td>\n",
       "      <td>0.82</td>\n",
       "      <td>0.0</td>\n",
       "      <td>-0.02885</td>\n",
       "      <td>20.19</td>\n",
       "      <td>1</td>\n",
       "      <td>1</td>\n",
       "      <td>9</td>\n",
       "      <td>0</td>\n",
       "      <td>0</td>\n",
       "      <td>...</td>\n",
       "      <td>0</td>\n",
       "      <td>0</td>\n",
       "      <td>0</td>\n",
       "      <td>0</td>\n",
       "      <td>0</td>\n",
       "      <td>0</td>\n",
       "      <td>0</td>\n",
       "      <td>0</td>\n",
       "      <td>0</td>\n",
       "      <td>0</td>\n",
       "    </tr>\n",
       "    <tr>\n",
       "      <th>4</th>\n",
       "      <td>03f0b20e-3b5b-444f-bc39-cdfa2523d4bc</td>\n",
       "      <td>0.05</td>\n",
       "      <td>0.0</td>\n",
       "      <td>-0.02885</td>\n",
       "      <td>8.19</td>\n",
       "      <td>1</td>\n",
       "      <td>1</td>\n",
       "      <td>9</td>\n",
       "      <td>0</td>\n",
       "      <td>0</td>\n",
       "      <td>...</td>\n",
       "      <td>0</td>\n",
       "      <td>0</td>\n",
       "      <td>0</td>\n",
       "      <td>0</td>\n",
       "      <td>1</td>\n",
       "      <td>0</td>\n",
       "      <td>0</td>\n",
       "      <td>0</td>\n",
       "      <td>0</td>\n",
       "      <td>0</td>\n",
       "    </tr>\n",
       "  </tbody>\n",
       "</table>\n",
       "<p>5 rows × 30 columns</p>\n",
       "</div>"
      ],
      "text/plain": [
       "                             product_id  estimated_stock_pct  quantity  \\\n",
       "0  00e120bb-89d6-4df5-bc48-a051148e3d03                 0.89       3.0   \n",
       "1  01f3cdd9-8e9e-4dff-9b5c-69698a0388d0                 0.14       3.0   \n",
       "2  01ff0803-ae73-4234-971d-5713c97b7f4b                 0.67       0.0   \n",
       "3  0363eb21-8c74-47e1-a216-c37e565e5ceb                 0.82       0.0   \n",
       "4  03f0b20e-3b5b-444f-bc39-cdfa2523d4bc                 0.05       0.0   \n",
       "\n",
       "   temperature  unit_price  timestamp_day_of_month  timestamp_day_of_week  \\\n",
       "0     -0.02885       11.19                       1                      1   \n",
       "1     -0.02885        1.49                       1                      1   \n",
       "2     -0.02885       14.19                       1                      1   \n",
       "3     -0.02885       20.19                       1                      1   \n",
       "4     -0.02885        8.19                       1                      1   \n",
       "\n",
       "   timestamp_hour  category_baby products  category_baked goods  ...  \\\n",
       "0               9                       0                     0  ...   \n",
       "1               9                       0                     0  ...   \n",
       "2               9                       1                     0  ...   \n",
       "3               9                       0                     0  ...   \n",
       "4               9                       0                     0  ...   \n",
       "\n",
       "   category_meat  category_medicine  category_packaged foods  \\\n",
       "0              0                  0                        0   \n",
       "1              0                  0                        0   \n",
       "2              0                  0                        0   \n",
       "3              0                  0                        0   \n",
       "4              0                  0                        0   \n",
       "\n",
       "   category_personal care  category_pets  category_refrigerated items  \\\n",
       "0                       0              0                            0   \n",
       "1                       0              0                            0   \n",
       "2                       0              0                            0   \n",
       "3                       0              0                            0   \n",
       "4                       0              1                            0   \n",
       "\n",
       "   category_seafood  category_snacks  category_spices and herbs  \\\n",
       "0                 0                0                          0   \n",
       "1                 0                0                          0   \n",
       "2                 0                0                          0   \n",
       "3                 0                0                          0   \n",
       "4                 0                0                          0   \n",
       "\n",
       "   category_vegetables  \n",
       "0                    0  \n",
       "1                    1  \n",
       "2                    0  \n",
       "3                    0  \n",
       "4                    0  \n",
       "\n",
       "[5 rows x 30 columns]"
      ]
     },
     "execution_count": 254,
     "metadata": {},
     "output_type": "execute_result"
    }
   ],
   "source": [
    "merged_df = pd.get_dummies(merged_df, columns=['category'])\n",
    "merged_df.head()"
   ]
  },
  {
   "cell_type": "code",
   "execution_count": 255,
   "id": "32984ca3",
   "metadata": {},
   "outputs": [
    {
     "data": {
      "text/html": [
       "<div>\n",
       "<style scoped>\n",
       "    .dataframe tbody tr th:only-of-type {\n",
       "        vertical-align: middle;\n",
       "    }\n",
       "\n",
       "    .dataframe tbody tr th {\n",
       "        vertical-align: top;\n",
       "    }\n",
       "\n",
       "    .dataframe thead th {\n",
       "        text-align: right;\n",
       "    }\n",
       "</style>\n",
       "<table border=\"1\" class=\"dataframe\">\n",
       "  <thead>\n",
       "    <tr style=\"text-align: right;\">\n",
       "      <th></th>\n",
       "      <th>product_id</th>\n",
       "      <th>customer_type</th>\n",
       "    </tr>\n",
       "  </thead>\n",
       "  <tbody>\n",
       "    <tr>\n",
       "      <th>0</th>\n",
       "      <td>3bc6c1ea-0198-46de-9ffd-514ae3338713</td>\n",
       "      <td>gold</td>\n",
       "    </tr>\n",
       "    <tr>\n",
       "      <th>1</th>\n",
       "      <td>ad81b46c-bf38-41cf-9b54-5fe7f5eba93e</td>\n",
       "      <td>standard</td>\n",
       "    </tr>\n",
       "    <tr>\n",
       "      <th>2</th>\n",
       "      <td>7c55cbd4-f306-4c04-a030-628cbe7867c1</td>\n",
       "      <td>premium</td>\n",
       "    </tr>\n",
       "    <tr>\n",
       "      <th>3</th>\n",
       "      <td>80da8348-1707-403f-8be7-9e6deeccc883</td>\n",
       "      <td>gold</td>\n",
       "    </tr>\n",
       "    <tr>\n",
       "      <th>4</th>\n",
       "      <td>7f5e86e6-f06f-45f6-bf44-27b095c9ad1d</td>\n",
       "      <td>basic</td>\n",
       "    </tr>\n",
       "    <tr>\n",
       "      <th>...</th>\n",
       "      <td>...</td>\n",
       "      <td>...</td>\n",
       "    </tr>\n",
       "    <tr>\n",
       "      <th>7776</th>\n",
       "      <td>523663d3-79c1-4635-ae3d-6024ed830251</td>\n",
       "      <td>basic</td>\n",
       "    </tr>\n",
       "    <tr>\n",
       "      <th>7799</th>\n",
       "      <td>20a9bd7b-daff-4b8b-bdc1-2e8f9a0277fa</td>\n",
       "      <td>gold</td>\n",
       "    </tr>\n",
       "    <tr>\n",
       "      <th>7803</th>\n",
       "      <td>1af1cbf1-e439-4cb4-937f-be983d8ffd29</td>\n",
       "      <td>standard</td>\n",
       "    </tr>\n",
       "    <tr>\n",
       "      <th>7816</th>\n",
       "      <td>364035ab-945a-4c34-9734-5167b787ae5c</td>\n",
       "      <td>gold</td>\n",
       "    </tr>\n",
       "    <tr>\n",
       "      <th>7826</th>\n",
       "      <td>a9325c1a-2715-41df-b7f4-3078fa5ecd97</td>\n",
       "      <td>basic</td>\n",
       "    </tr>\n",
       "  </tbody>\n",
       "</table>\n",
       "<p>1448 rows × 2 columns</p>\n",
       "</div>"
      ],
      "text/plain": [
       "                                product_id customer_type\n",
       "0     3bc6c1ea-0198-46de-9ffd-514ae3338713          gold\n",
       "1     ad81b46c-bf38-41cf-9b54-5fe7f5eba93e      standard\n",
       "2     7c55cbd4-f306-4c04-a030-628cbe7867c1       premium\n",
       "3     80da8348-1707-403f-8be7-9e6deeccc883          gold\n",
       "4     7f5e86e6-f06f-45f6-bf44-27b095c9ad1d         basic\n",
       "...                                    ...           ...\n",
       "7776  523663d3-79c1-4635-ae3d-6024ed830251         basic\n",
       "7799  20a9bd7b-daff-4b8b-bdc1-2e8f9a0277fa          gold\n",
       "7803  1af1cbf1-e439-4cb4-937f-be983d8ffd29      standard\n",
       "7816  364035ab-945a-4c34-9734-5167b787ae5c          gold\n",
       "7826  a9325c1a-2715-41df-b7f4-3078fa5ecd97         basic\n",
       "\n",
       "[1448 rows x 2 columns]"
      ]
     },
     "execution_count": 255,
     "metadata": {},
     "output_type": "execute_result"
    }
   ],
   "source": [
    "product_categories = df[['product_id','customer_type']]\n",
    "product_categories = product_categories.drop_duplicates()\n",
    "product_categories"
   ]
  },
  {
   "cell_type": "code",
   "execution_count": 256,
   "id": "dadea058",
   "metadata": {},
   "outputs": [
    {
     "data": {
      "text/html": [
       "<div>\n",
       "<style scoped>\n",
       "    .dataframe tbody tr th:only-of-type {\n",
       "        vertical-align: middle;\n",
       "    }\n",
       "\n",
       "    .dataframe tbody tr th {\n",
       "        vertical-align: top;\n",
       "    }\n",
       "\n",
       "    .dataframe thead th {\n",
       "        text-align: right;\n",
       "    }\n",
       "</style>\n",
       "<table border=\"1\" class=\"dataframe\">\n",
       "  <thead>\n",
       "    <tr style=\"text-align: right;\">\n",
       "      <th></th>\n",
       "      <th>product_id</th>\n",
       "      <th>estimated_stock_pct</th>\n",
       "      <th>quantity</th>\n",
       "      <th>temperature</th>\n",
       "      <th>unit_price</th>\n",
       "      <th>timestamp_day_of_month</th>\n",
       "      <th>timestamp_day_of_week</th>\n",
       "      <th>timestamp_hour</th>\n",
       "      <th>category_baby products</th>\n",
       "      <th>category_baked goods</th>\n",
       "      <th>...</th>\n",
       "      <th>category_medicine</th>\n",
       "      <th>category_packaged foods</th>\n",
       "      <th>category_personal care</th>\n",
       "      <th>category_pets</th>\n",
       "      <th>category_refrigerated items</th>\n",
       "      <th>category_seafood</th>\n",
       "      <th>category_snacks</th>\n",
       "      <th>category_spices and herbs</th>\n",
       "      <th>category_vegetables</th>\n",
       "      <th>customer_type</th>\n",
       "    </tr>\n",
       "  </thead>\n",
       "  <tbody>\n",
       "    <tr>\n",
       "      <th>0</th>\n",
       "      <td>00e120bb-89d6-4df5-bc48-a051148e3d03</td>\n",
       "      <td>0.89</td>\n",
       "      <td>3.0</td>\n",
       "      <td>-0.02885</td>\n",
       "      <td>11.19</td>\n",
       "      <td>1</td>\n",
       "      <td>1</td>\n",
       "      <td>9</td>\n",
       "      <td>0</td>\n",
       "      <td>0</td>\n",
       "      <td>...</td>\n",
       "      <td>0</td>\n",
       "      <td>0</td>\n",
       "      <td>0</td>\n",
       "      <td>0</td>\n",
       "      <td>0</td>\n",
       "      <td>0</td>\n",
       "      <td>0</td>\n",
       "      <td>0</td>\n",
       "      <td>0</td>\n",
       "      <td>premium</td>\n",
       "    </tr>\n",
       "    <tr>\n",
       "      <th>1</th>\n",
       "      <td>00e120bb-89d6-4df5-bc48-a051148e3d03</td>\n",
       "      <td>0.89</td>\n",
       "      <td>3.0</td>\n",
       "      <td>-0.02885</td>\n",
       "      <td>11.19</td>\n",
       "      <td>1</td>\n",
       "      <td>1</td>\n",
       "      <td>9</td>\n",
       "      <td>0</td>\n",
       "      <td>0</td>\n",
       "      <td>...</td>\n",
       "      <td>0</td>\n",
       "      <td>0</td>\n",
       "      <td>0</td>\n",
       "      <td>0</td>\n",
       "      <td>0</td>\n",
       "      <td>0</td>\n",
       "      <td>0</td>\n",
       "      <td>0</td>\n",
       "      <td>0</td>\n",
       "      <td>standard</td>\n",
       "    </tr>\n",
       "    <tr>\n",
       "      <th>2</th>\n",
       "      <td>00e120bb-89d6-4df5-bc48-a051148e3d03</td>\n",
       "      <td>0.89</td>\n",
       "      <td>3.0</td>\n",
       "      <td>-0.02885</td>\n",
       "      <td>11.19</td>\n",
       "      <td>1</td>\n",
       "      <td>1</td>\n",
       "      <td>9</td>\n",
       "      <td>0</td>\n",
       "      <td>0</td>\n",
       "      <td>...</td>\n",
       "      <td>0</td>\n",
       "      <td>0</td>\n",
       "      <td>0</td>\n",
       "      <td>0</td>\n",
       "      <td>0</td>\n",
       "      <td>0</td>\n",
       "      <td>0</td>\n",
       "      <td>0</td>\n",
       "      <td>0</td>\n",
       "      <td>gold</td>\n",
       "    </tr>\n",
       "    <tr>\n",
       "      <th>3</th>\n",
       "      <td>00e120bb-89d6-4df5-bc48-a051148e3d03</td>\n",
       "      <td>0.89</td>\n",
       "      <td>3.0</td>\n",
       "      <td>-0.02885</td>\n",
       "      <td>11.19</td>\n",
       "      <td>1</td>\n",
       "      <td>1</td>\n",
       "      <td>9</td>\n",
       "      <td>0</td>\n",
       "      <td>0</td>\n",
       "      <td>...</td>\n",
       "      <td>0</td>\n",
       "      <td>0</td>\n",
       "      <td>0</td>\n",
       "      <td>0</td>\n",
       "      <td>0</td>\n",
       "      <td>0</td>\n",
       "      <td>0</td>\n",
       "      <td>0</td>\n",
       "      <td>0</td>\n",
       "      <td>basic</td>\n",
       "    </tr>\n",
       "    <tr>\n",
       "      <th>4</th>\n",
       "      <td>00e120bb-89d6-4df5-bc48-a051148e3d03</td>\n",
       "      <td>0.89</td>\n",
       "      <td>3.0</td>\n",
       "      <td>-0.02885</td>\n",
       "      <td>11.19</td>\n",
       "      <td>1</td>\n",
       "      <td>1</td>\n",
       "      <td>9</td>\n",
       "      <td>0</td>\n",
       "      <td>0</td>\n",
       "      <td>...</td>\n",
       "      <td>0</td>\n",
       "      <td>0</td>\n",
       "      <td>0</td>\n",
       "      <td>0</td>\n",
       "      <td>0</td>\n",
       "      <td>0</td>\n",
       "      <td>0</td>\n",
       "      <td>0</td>\n",
       "      <td>0</td>\n",
       "      <td>non-member</td>\n",
       "    </tr>\n",
       "  </tbody>\n",
       "</table>\n",
       "<p>5 rows × 31 columns</p>\n",
       "</div>"
      ],
      "text/plain": [
       "                             product_id  estimated_stock_pct  quantity  \\\n",
       "0  00e120bb-89d6-4df5-bc48-a051148e3d03                 0.89       3.0   \n",
       "1  00e120bb-89d6-4df5-bc48-a051148e3d03                 0.89       3.0   \n",
       "2  00e120bb-89d6-4df5-bc48-a051148e3d03                 0.89       3.0   \n",
       "3  00e120bb-89d6-4df5-bc48-a051148e3d03                 0.89       3.0   \n",
       "4  00e120bb-89d6-4df5-bc48-a051148e3d03                 0.89       3.0   \n",
       "\n",
       "   temperature  unit_price  timestamp_day_of_month  timestamp_day_of_week  \\\n",
       "0     -0.02885       11.19                       1                      1   \n",
       "1     -0.02885       11.19                       1                      1   \n",
       "2     -0.02885       11.19                       1                      1   \n",
       "3     -0.02885       11.19                       1                      1   \n",
       "4     -0.02885       11.19                       1                      1   \n",
       "\n",
       "   timestamp_hour  category_baby products  category_baked goods  ...  \\\n",
       "0               9                       0                     0  ...   \n",
       "1               9                       0                     0  ...   \n",
       "2               9                       0                     0  ...   \n",
       "3               9                       0                     0  ...   \n",
       "4               9                       0                     0  ...   \n",
       "\n",
       "   category_medicine  category_packaged foods  category_personal care  \\\n",
       "0                  0                        0                       0   \n",
       "1                  0                        0                       0   \n",
       "2                  0                        0                       0   \n",
       "3                  0                        0                       0   \n",
       "4                  0                        0                       0   \n",
       "\n",
       "   category_pets  category_refrigerated items  category_seafood  \\\n",
       "0              0                            0                 0   \n",
       "1              0                            0                 0   \n",
       "2              0                            0                 0   \n",
       "3              0                            0                 0   \n",
       "4              0                            0                 0   \n",
       "\n",
       "   category_snacks  category_spices and herbs  category_vegetables  \\\n",
       "0                0                          0                    0   \n",
       "1                0                          0                    0   \n",
       "2                0                          0                    0   \n",
       "3                0                          0                    0   \n",
       "4                0                          0                    0   \n",
       "\n",
       "   customer_type  \n",
       "0        premium  \n",
       "1       standard  \n",
       "2           gold  \n",
       "3          basic  \n",
       "4     non-member  \n",
       "\n",
       "[5 rows x 31 columns]"
      ]
     },
     "execution_count": 256,
     "metadata": {},
     "output_type": "execute_result"
    }
   ],
   "source": [
    "merged_df=merged_df.merge(product_categories,on='product_id',how='left')\n",
    "merged_df.head()"
   ]
  },
  {
   "cell_type": "code",
   "execution_count": 258,
   "id": "8bf500a2",
   "metadata": {},
   "outputs": [
    {
     "data": {
      "text/html": [
       "<div>\n",
       "<style scoped>\n",
       "    .dataframe tbody tr th:only-of-type {\n",
       "        vertical-align: middle;\n",
       "    }\n",
       "\n",
       "    .dataframe tbody tr th {\n",
       "        vertical-align: top;\n",
       "    }\n",
       "\n",
       "    .dataframe thead th {\n",
       "        text-align: right;\n",
       "    }\n",
       "</style>\n",
       "<table border=\"1\" class=\"dataframe\">\n",
       "  <thead>\n",
       "    <tr style=\"text-align: right;\">\n",
       "      <th></th>\n",
       "      <th>customer_type_basic</th>\n",
       "      <th>customer_type_gold</th>\n",
       "      <th>customer_type_non-member</th>\n",
       "      <th>customer_type_premium</th>\n",
       "      <th>customer_type_standard</th>\n",
       "    </tr>\n",
       "  </thead>\n",
       "  <tbody>\n",
       "    <tr>\n",
       "      <th>0</th>\n",
       "      <td>0</td>\n",
       "      <td>0</td>\n",
       "      <td>0</td>\n",
       "      <td>1</td>\n",
       "      <td>0</td>\n",
       "    </tr>\n",
       "    <tr>\n",
       "      <th>1</th>\n",
       "      <td>0</td>\n",
       "      <td>0</td>\n",
       "      <td>0</td>\n",
       "      <td>0</td>\n",
       "      <td>1</td>\n",
       "    </tr>\n",
       "    <tr>\n",
       "      <th>2</th>\n",
       "      <td>0</td>\n",
       "      <td>1</td>\n",
       "      <td>0</td>\n",
       "      <td>0</td>\n",
       "      <td>0</td>\n",
       "    </tr>\n",
       "    <tr>\n",
       "      <th>3</th>\n",
       "      <td>1</td>\n",
       "      <td>0</td>\n",
       "      <td>0</td>\n",
       "      <td>0</td>\n",
       "      <td>0</td>\n",
       "    </tr>\n",
       "    <tr>\n",
       "      <th>4</th>\n",
       "      <td>0</td>\n",
       "      <td>0</td>\n",
       "      <td>1</td>\n",
       "      <td>0</td>\n",
       "      <td>0</td>\n",
       "    </tr>\n",
       "  </tbody>\n",
       "</table>\n",
       "</div>"
      ],
      "text/plain": [
       "   customer_type_basic  customer_type_gold  customer_type_non-member  \\\n",
       "0                    0                   0                         0   \n",
       "1                    0                   0                         0   \n",
       "2                    0                   1                         0   \n",
       "3                    1                   0                         0   \n",
       "4                    0                   0                         1   \n",
       "\n",
       "   customer_type_premium  customer_type_standard  \n",
       "0                      1                       0  \n",
       "1                      0                       1  \n",
       "2                      0                       0  \n",
       "3                      0                       0  \n",
       "4                      0                       0  "
      ]
     },
     "execution_count": 258,
     "metadata": {},
     "output_type": "execute_result"
    }
   ],
   "source": [
    "a=pd.get_dummies(merged_df['customer_type'],prefix='customer_type')\n",
    "a.head()"
   ]
  },
  {
   "cell_type": "code",
   "execution_count": 260,
   "id": "d87acee1",
   "metadata": {},
   "outputs": [],
   "source": [
    "merged_df=pd.concat([merged_df,a],axis=1)"
   ]
  },
  {
   "cell_type": "code",
   "execution_count": 261,
   "id": "f2d3ea38",
   "metadata": {},
   "outputs": [
    {
     "data": {
      "text/html": [
       "<div>\n",
       "<style scoped>\n",
       "    .dataframe tbody tr th:only-of-type {\n",
       "        vertical-align: middle;\n",
       "    }\n",
       "\n",
       "    .dataframe tbody tr th {\n",
       "        vertical-align: top;\n",
       "    }\n",
       "\n",
       "    .dataframe thead th {\n",
       "        text-align: right;\n",
       "    }\n",
       "</style>\n",
       "<table border=\"1\" class=\"dataframe\">\n",
       "  <thead>\n",
       "    <tr style=\"text-align: right;\">\n",
       "      <th></th>\n",
       "      <th>product_id</th>\n",
       "      <th>estimated_stock_pct</th>\n",
       "      <th>quantity</th>\n",
       "      <th>temperature</th>\n",
       "      <th>unit_price</th>\n",
       "      <th>timestamp_day_of_month</th>\n",
       "      <th>timestamp_day_of_week</th>\n",
       "      <th>timestamp_hour</th>\n",
       "      <th>category_baby products</th>\n",
       "      <th>category_baked goods</th>\n",
       "      <th>...</th>\n",
       "      <th>category_seafood</th>\n",
       "      <th>category_snacks</th>\n",
       "      <th>category_spices and herbs</th>\n",
       "      <th>category_vegetables</th>\n",
       "      <th>customer_type</th>\n",
       "      <th>customer_type_basic</th>\n",
       "      <th>customer_type_gold</th>\n",
       "      <th>customer_type_non-member</th>\n",
       "      <th>customer_type_premium</th>\n",
       "      <th>customer_type_standard</th>\n",
       "    </tr>\n",
       "  </thead>\n",
       "  <tbody>\n",
       "    <tr>\n",
       "      <th>0</th>\n",
       "      <td>00e120bb-89d6-4df5-bc48-a051148e3d03</td>\n",
       "      <td>0.89</td>\n",
       "      <td>3.0</td>\n",
       "      <td>-0.02885</td>\n",
       "      <td>11.19</td>\n",
       "      <td>1</td>\n",
       "      <td>1</td>\n",
       "      <td>9</td>\n",
       "      <td>0</td>\n",
       "      <td>0</td>\n",
       "      <td>...</td>\n",
       "      <td>0</td>\n",
       "      <td>0</td>\n",
       "      <td>0</td>\n",
       "      <td>0</td>\n",
       "      <td>premium</td>\n",
       "      <td>0</td>\n",
       "      <td>0</td>\n",
       "      <td>0</td>\n",
       "      <td>1</td>\n",
       "      <td>0</td>\n",
       "    </tr>\n",
       "    <tr>\n",
       "      <th>1</th>\n",
       "      <td>00e120bb-89d6-4df5-bc48-a051148e3d03</td>\n",
       "      <td>0.89</td>\n",
       "      <td>3.0</td>\n",
       "      <td>-0.02885</td>\n",
       "      <td>11.19</td>\n",
       "      <td>1</td>\n",
       "      <td>1</td>\n",
       "      <td>9</td>\n",
       "      <td>0</td>\n",
       "      <td>0</td>\n",
       "      <td>...</td>\n",
       "      <td>0</td>\n",
       "      <td>0</td>\n",
       "      <td>0</td>\n",
       "      <td>0</td>\n",
       "      <td>standard</td>\n",
       "      <td>0</td>\n",
       "      <td>0</td>\n",
       "      <td>0</td>\n",
       "      <td>0</td>\n",
       "      <td>1</td>\n",
       "    </tr>\n",
       "    <tr>\n",
       "      <th>2</th>\n",
       "      <td>00e120bb-89d6-4df5-bc48-a051148e3d03</td>\n",
       "      <td>0.89</td>\n",
       "      <td>3.0</td>\n",
       "      <td>-0.02885</td>\n",
       "      <td>11.19</td>\n",
       "      <td>1</td>\n",
       "      <td>1</td>\n",
       "      <td>9</td>\n",
       "      <td>0</td>\n",
       "      <td>0</td>\n",
       "      <td>...</td>\n",
       "      <td>0</td>\n",
       "      <td>0</td>\n",
       "      <td>0</td>\n",
       "      <td>0</td>\n",
       "      <td>gold</td>\n",
       "      <td>0</td>\n",
       "      <td>1</td>\n",
       "      <td>0</td>\n",
       "      <td>0</td>\n",
       "      <td>0</td>\n",
       "    </tr>\n",
       "    <tr>\n",
       "      <th>3</th>\n",
       "      <td>00e120bb-89d6-4df5-bc48-a051148e3d03</td>\n",
       "      <td>0.89</td>\n",
       "      <td>3.0</td>\n",
       "      <td>-0.02885</td>\n",
       "      <td>11.19</td>\n",
       "      <td>1</td>\n",
       "      <td>1</td>\n",
       "      <td>9</td>\n",
       "      <td>0</td>\n",
       "      <td>0</td>\n",
       "      <td>...</td>\n",
       "      <td>0</td>\n",
       "      <td>0</td>\n",
       "      <td>0</td>\n",
       "      <td>0</td>\n",
       "      <td>basic</td>\n",
       "      <td>1</td>\n",
       "      <td>0</td>\n",
       "      <td>0</td>\n",
       "      <td>0</td>\n",
       "      <td>0</td>\n",
       "    </tr>\n",
       "    <tr>\n",
       "      <th>4</th>\n",
       "      <td>00e120bb-89d6-4df5-bc48-a051148e3d03</td>\n",
       "      <td>0.89</td>\n",
       "      <td>3.0</td>\n",
       "      <td>-0.02885</td>\n",
       "      <td>11.19</td>\n",
       "      <td>1</td>\n",
       "      <td>1</td>\n",
       "      <td>9</td>\n",
       "      <td>0</td>\n",
       "      <td>0</td>\n",
       "      <td>...</td>\n",
       "      <td>0</td>\n",
       "      <td>0</td>\n",
       "      <td>0</td>\n",
       "      <td>0</td>\n",
       "      <td>non-member</td>\n",
       "      <td>0</td>\n",
       "      <td>0</td>\n",
       "      <td>1</td>\n",
       "      <td>0</td>\n",
       "      <td>0</td>\n",
       "    </tr>\n",
       "  </tbody>\n",
       "</table>\n",
       "<p>5 rows × 36 columns</p>\n",
       "</div>"
      ],
      "text/plain": [
       "                             product_id  estimated_stock_pct  quantity  \\\n",
       "0  00e120bb-89d6-4df5-bc48-a051148e3d03                 0.89       3.0   \n",
       "1  00e120bb-89d6-4df5-bc48-a051148e3d03                 0.89       3.0   \n",
       "2  00e120bb-89d6-4df5-bc48-a051148e3d03                 0.89       3.0   \n",
       "3  00e120bb-89d6-4df5-bc48-a051148e3d03                 0.89       3.0   \n",
       "4  00e120bb-89d6-4df5-bc48-a051148e3d03                 0.89       3.0   \n",
       "\n",
       "   temperature  unit_price  timestamp_day_of_month  timestamp_day_of_week  \\\n",
       "0     -0.02885       11.19                       1                      1   \n",
       "1     -0.02885       11.19                       1                      1   \n",
       "2     -0.02885       11.19                       1                      1   \n",
       "3     -0.02885       11.19                       1                      1   \n",
       "4     -0.02885       11.19                       1                      1   \n",
       "\n",
       "   timestamp_hour  category_baby products  category_baked goods  ...  \\\n",
       "0               9                       0                     0  ...   \n",
       "1               9                       0                     0  ...   \n",
       "2               9                       0                     0  ...   \n",
       "3               9                       0                     0  ...   \n",
       "4               9                       0                     0  ...   \n",
       "\n",
       "   category_seafood  category_snacks  category_spices and herbs  \\\n",
       "0                 0                0                          0   \n",
       "1                 0                0                          0   \n",
       "2                 0                0                          0   \n",
       "3                 0                0                          0   \n",
       "4                 0                0                          0   \n",
       "\n",
       "   category_vegetables  customer_type  customer_type_basic  \\\n",
       "0                    0        premium                    0   \n",
       "1                    0       standard                    0   \n",
       "2                    0           gold                    0   \n",
       "3                    0          basic                    1   \n",
       "4                    0     non-member                    0   \n",
       "\n",
       "   customer_type_gold  customer_type_non-member  customer_type_premium  \\\n",
       "0                   0                         0                      1   \n",
       "1                   0                         0                      0   \n",
       "2                   1                         0                      0   \n",
       "3                   0                         0                      0   \n",
       "4                   0                         1                      0   \n",
       "\n",
       "   customer_type_standard  \n",
       "0                       0  \n",
       "1                       1  \n",
       "2                       0  \n",
       "3                       0  \n",
       "4                       0  \n",
       "\n",
       "[5 rows x 36 columns]"
      ]
     },
     "execution_count": 261,
     "metadata": {},
     "output_type": "execute_result"
    }
   ],
   "source": [
    "merged_df.head()"
   ]
  },
  {
   "cell_type": "code",
   "execution_count": 262,
   "id": "d3285519",
   "metadata": {},
   "outputs": [],
   "source": [
    "final_df=merged_df.drop(['product_id','customer_type'],axis=1)"
   ]
  },
  {
   "cell_type": "markdown",
   "id": "8ab19dbc",
   "metadata": {},
   "source": [
    "# Modelling"
   ]
  },
  {
   "cell_type": "code",
   "execution_count": 264,
   "id": "55bbf7eb",
   "metadata": {},
   "outputs": [],
   "source": [
    "x=final_df.drop('estimated_stock_pct',axis=1)\n",
    "y=final_df['estimated_stock_pct']"
   ]
  },
  {
   "cell_type": "code",
   "execution_count": 279,
   "id": "49f16cb8",
   "metadata": {},
   "outputs": [],
   "source": [
    "from sklearn.model_selection import train_test_split,GridSearchCV\n",
    "from sklearn.metrics import mean_absolute_error,accuracy_score\n",
    "from sklearn.preprocessing import StandardScaler\n",
    "from sklearn.linear_model import ElasticNetCV\n",
    "from sklearn.ensemble import RandomForestRegressor,AdaBoostRegressor"
   ]
  },
  {
   "cell_type": "code",
   "execution_count": 269,
   "id": "39d4db11",
   "metadata": {},
   "outputs": [],
   "source": [
    "X_train,X_test,y_train,y_test=train_test_split(x,y,test_size=0.25,random_state=101)"
   ]
  },
  {
   "cell_type": "code",
   "execution_count": 270,
   "id": "ae69e05d",
   "metadata": {},
   "outputs": [],
   "source": [
    "scale=StandardScaler()"
   ]
  },
  {
   "cell_type": "code",
   "execution_count": 271,
   "id": "7a1dce96",
   "metadata": {},
   "outputs": [],
   "source": [
    "X_train=scale.fit_transform(X_train)"
   ]
  },
  {
   "cell_type": "code",
   "execution_count": 272,
   "id": "7560994c",
   "metadata": {},
   "outputs": [],
   "source": [
    "X_test=scale.transform(X_test)"
   ]
  },
  {
   "cell_type": "code",
   "execution_count": 273,
   "id": "75a0de42",
   "metadata": {},
   "outputs": [],
   "source": [
    "model=ElasticNetCV()"
   ]
  },
  {
   "cell_type": "code",
   "execution_count": 274,
   "id": "e6e7f5cf",
   "metadata": {},
   "outputs": [
    {
     "data": {
      "text/plain": [
       "ElasticNetCV()"
      ]
     },
     "execution_count": 274,
     "metadata": {},
     "output_type": "execute_result"
    }
   ],
   "source": [
    "model.fit(X_train,y_train)"
   ]
  },
  {
   "cell_type": "code",
   "execution_count": 275,
   "id": "cddd3c8a",
   "metadata": {},
   "outputs": [],
   "source": [
    "y_pred=model.predict(X_test)"
   ]
  },
  {
   "cell_type": "code",
   "execution_count": 276,
   "id": "b270c833",
   "metadata": {},
   "outputs": [],
   "source": [
    "resi=y_test-y_pred"
   ]
  },
  {
   "cell_type": "code",
   "execution_count": 278,
   "id": "4f90a435",
   "metadata": {},
   "outputs": [
    {
     "data": {
      "text/plain": [
       "0.22431524794435367"
      ]
     },
     "execution_count": 278,
     "metadata": {},
     "output_type": "execute_result"
    }
   ],
   "source": [
    "mean_absolute_error(y_test,y_pred)"
   ]
  },
  {
   "cell_type": "code",
   "execution_count": 336,
   "id": "2843ba37",
   "metadata": {},
   "outputs": [],
   "source": [
    "rfmodel=RandomForestRegressor(n_estimators=150)"
   ]
  },
  {
   "cell_type": "code",
   "execution_count": 337,
   "id": "e01b9561",
   "metadata": {},
   "outputs": [
    {
     "data": {
      "text/plain": [
       "RandomForestRegressor(n_estimators=150)"
      ]
     },
     "execution_count": 337,
     "metadata": {},
     "output_type": "execute_result"
    }
   ],
   "source": [
    "rfmodel.fit(X_train,y_train)"
   ]
  },
  {
   "cell_type": "code",
   "execution_count": 338,
   "id": "e60fda3e",
   "metadata": {},
   "outputs": [],
   "source": [
    "y_pred=rfmodel.predict(X_test)"
   ]
  },
  {
   "cell_type": "code",
   "execution_count": 339,
   "id": "7be6f8e0",
   "metadata": {},
   "outputs": [
    {
     "data": {
      "text/plain": [
       "0.07383810528468013"
      ]
     },
     "execution_count": 339,
     "metadata": {},
     "output_type": "execute_result"
    }
   ],
   "source": [
    "mean_absolute_error(y_test,y_pred)"
   ]
  },
  {
   "cell_type": "code",
   "execution_count": 292,
   "id": "4170a236",
   "metadata": {},
   "outputs": [
    {
     "data": {
      "text/plain": [
       "array([0.07081636, 0.16279137, 0.27401855, 0.05007563, 0.05115941,\n",
       "       0.10764127, 0.01330274, 0.01175887, 0.01237586, 0.01503259,\n",
       "       0.01148255, 0.01317456, 0.01205529, 0.01114458, 0.00980211,\n",
       "       0.01511413, 0.00698434, 0.01037935, 0.00822573, 0.00867316,\n",
       "       0.01152358, 0.01419167, 0.00844783, 0.01240955, 0.00951439,\n",
       "       0.00845584, 0.00995193, 0.0077651 , 0.00862951, 0.00830893,\n",
       "       0.00818702, 0.00822194, 0.00838425])"
      ]
     },
     "execution_count": 292,
     "metadata": {},
     "output_type": "execute_result"
    }
   ],
   "source": [
    "features=rfmodel.feature_importances_\n",
    "features"
   ]
  },
  {
   "cell_type": "code",
   "execution_count": 302,
   "id": "2b77aab3",
   "metadata": {},
   "outputs": [
    {
     "data": {
      "image/png": "[encoded data removed]",
      "text/plain": [
       "<Figure size 3200x1200 with 1 Axes>"
      ]
     },
     "metadata": {
      "needs_background": "light"
     },
     "output_type": "display_data"
    }
   ],
   "source": [
    "plt.figure(figsize=(16,6),dpi=200)\n",
    "sns.barplot(x=x.columns,y=features)\n",
    "plt.xticks(rotation=90)\n",
    "plt.show()"
   ]
  },
  {
   "cell_type": "code",
   "execution_count": 318,
   "id": "9007e988",
   "metadata": {},
   "outputs": [
    {
     "data": {
      "text/plain": [
       "array([0.07081636, 0.16279137, 0.27401855, 0.05007563, 0.05115941,\n",
       "       0.10764127])"
      ]
     },
     "execution_count": 318,
     "metadata": {},
     "output_type": "execute_result"
    }
   ],
   "source": [
    "top6_features=rfmodel.feature_importances_[:6]\n",
    "top6_features"
   ]
  },
  {
   "cell_type": "code",
   "execution_count": 320,
   "id": "9d6299af",
   "metadata": {},
   "outputs": [
    {
     "data": {
      "text/plain": [
       "Index(['quantity', 'temperature', 'unit_price', 'timestamp_day_of_month',\n",
       "       'timestamp_day_of_week', 'timestamp_hour'],\n",
       "      dtype='object')"
      ]
     },
     "execution_count": 320,
     "metadata": {},
     "output_type": "execute_result"
    }
   ],
   "source": [
    "top6_columns=x.columns[:6]\n",
    "top6_columns"
   ]
  },
  {
   "cell_type": "code",
   "execution_count": 331,
   "id": "899f68cf",
   "metadata": {},
   "outputs": [
    {
     "data": {
      "image/png": "[encoded data removed]",
      "text/plain": [
       "<Figure size 720x432 with 1 Axes>"
      ]
     },
     "metadata": {},
     "output_type": "display_data"
    }
   ],
   "source": [
    "plt.figure(figsize=(10,6))\n",
    "plt.pie(x=top6_features,labels=top6_columns)\n",
    "plt.show()"
   ]
  },
  {
   "cell_type": "code",
   "execution_count": 340,
   "id": "426c6869",
   "metadata": {},
   "outputs": [],
   "source": [
    "import joblib"
   ]
  },
  {
   "cell_type": "code",
   "execution_count": 341,
   "id": "53c19117",
   "metadata": {},
   "outputs": [
    {
     "data": {
      "text/plain": [
       "['stock_pct_predictor']"
      ]
     },
     "execution_count": 341,
     "metadata": {},
     "output_type": "execute_result"
    }
   ],
   "source": [
    "joblib.dump(rfmodel,'stock_pct_predictor')"
   ]
  },
  {
   "cell_type": "code",
   "execution_count": null,
   "id": "a2235f7d",
   "metadata": {},
   "outputs": [],
   "source": []
  },
  {
   "cell_type": "code",
   "execution_count": null,
   "id": "b12bccd7",
   "metadata": {},
   "outputs": [],
   "source": []
  },
  {
   "cell_type": "code",
   "execution_count": null,
   "id": "57562782",
   "metadata": {},
   "outputs": [],
   "source": []
  }
 ],
 "metadata": {
  "kernelspec": {
   "display_name": "Python 3 (ipykernel)",
   "language": "python",
   "name": "python3"
  },
  "language_info": {
   "codemirror_mode": {
    "name": "ipython",
    "version": 3
   },
   "file_extension": ".py",
   "mimetype": "text/x-python",
   "name": "python",
   "nbconvert_exporter": "python",
   "pygments_lexer": "ipython3",
   "version": "3.9.12"
  }
 },
 "nbformat": 4,
 "nbformat_minor": 5
}
